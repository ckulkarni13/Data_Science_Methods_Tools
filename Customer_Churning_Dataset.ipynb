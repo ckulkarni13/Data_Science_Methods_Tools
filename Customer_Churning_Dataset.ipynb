{
  "nbformat": 4,
  "nbformat_minor": 0,
  "metadata": {
    "colab": {
      "provenance": [],
      "toc_visible": true
    },
    "kernelspec": {
      "name": "python3",
      "display_name": "Python 3"
    },
    "language_info": {
      "name": "python"
    }
  },
  "cells": [
    {
      "cell_type": "markdown",
      "source": [
        "# **Credit Card Customers Churn Prediction💡**"
      ],
      "metadata": {
        "id": "KMm5B6PbF_d6"
      }
    },
    {
      "cell_type": "markdown",
      "source": [
        "# **Introduction 💰 -**\n",
        "\n",
        "*   The bank's manager is concerned about customers leaving their credit card\n",
        "services. The goal of this analysis is to create a model that predicts whether a customer is likely to leave or not. This prediction will help the bank proactively engage with at-risk customers, provide better services, and ultimately reduce customer churn."
      ],
      "metadata": {
        "id": "YS3-r_GbHDEd"
      }
    },
    {
      "cell_type": "markdown",
      "source": [
        "# **Insights into the data -**\n",
        "\n",
        "\n",
        "*   The dataset contains information on 10,127 bank customers.\n",
        "*  Categorical features include customer attrition status, gender, education level, marital status, income category, and card category.\n",
        "* Numerical features include customer age, number of dependents, months as a customer, total product count, months of inactivity, contact count, credit limit, revolving balance, average open-to-buy credit, transaction amount changes, total transaction amount, total transaction count, transaction count changes, and average credit card utilization ratio.\n",
        "* Attrition_Flag indicates customer churn status, where \"Attrited Customer\" represents churned customers, and \"Existing Customer\" represents those who haven't churned.\n",
        "* The dataset is suitable for analyzing customer behavior and predicting churn.\n",
        "\n",
        "\n"
      ],
      "metadata": {
        "id": "RRsc5QXeJT3C"
      }
    },
    {
      "cell_type": "markdown",
      "source": [
        "# **Import all libraries & dependencies**"
      ],
      "metadata": {
        "id": "FJrxi8tuJrLs"
      }
    },
    {
      "cell_type": "code",
      "execution_count": null,
      "metadata": {
        "id": "ywBQkZycF0ZZ"
      },
      "outputs": [],
      "source": [
        "#Installing Dependencies\n",
        "!pip install eli5\n",
        "!pip install datasist"
      ]
    },
    {
      "cell_type": "code",
      "source": [
        "# EDA Libraries\n",
        "import numpy as np\n",
        "import pandas as pd\n",
        "import seaborn as sns\n",
        "import matplotlib.pylab as plt\n",
        "import matplotlib as pyplot\n",
        "import statsmodels.api as sm\n",
        "\n",
        "# Data Preprocessing Libraries\n",
        "from datasist.structdata import detect_outliers\n",
        "from sklearn.preprocessing import LabelEncoder\n",
        "from sklearn.ensemble import RandomForestClassifier\n",
        "from sklearn.feature_selection import SelectKBest, chi2\n",
        "\n",
        "# Machine Learing (classification models) Libraries\n",
        "from sklearn.model_selection import train_test_split\n",
        "from sklearn.metrics import accuracy_score, classification_report, confusion_matrix\n",
        "from sklearn.linear_model import LogisticRegression\n",
        "from sklearn.svm import SVC\n",
        "from sklearn.tree import DecisionTreeClassifier"
      ],
      "metadata": {
        "id": "AjDn7qgqJ0SU"
      },
      "execution_count": 140,
      "outputs": []
    },
    {
      "cell_type": "code",
      "source": [
        "# Data Loading\n",
        "df = pd.read_csv('/content/drive/MyDrive/Colab Notebooks/DSMT/BankChurners.csv')"
      ],
      "metadata": {
        "id": "15MkNIfSLBle"
      },
      "execution_count": 7,
      "outputs": []
    },
    {
      "cell_type": "code",
      "source": [
        "# Checking number of rows and columns of data\n",
        "df.shape"
      ],
      "metadata": {
        "colab": {
          "base_uri": "https://localhost:8080/"
        },
        "id": "UE9NeB-nLP8p",
        "outputId": "77660c43-870e-4760-b6ab-3c4057bcb8f5"
      },
      "execution_count": 8,
      "outputs": [
        {
          "output_type": "execute_result",
          "data": {
            "text/plain": [
              "(10127, 23)"
            ]
          },
          "metadata": {},
          "execution_count": 8
        }
      ]
    },
    {
      "cell_type": "markdown",
      "source": [
        "- There are 23 columns in the dataset and a total of 10,127 rows."
      ],
      "metadata": {
        "id": "h9uPa_WaTyvB"
      }
    },
    {
      "cell_type": "code",
      "source": [
        "data_types = df.dtypes\n",
        "categorical_columns = data_types[data_types == 'object'].index\n",
        "numerical_columns = data_types[data_types != 'object'].index\n",
        "\n",
        "# Count the number of categorical and numerical columns\n",
        "num_categorical_columns = len(categorical_columns)\n",
        "num_numerical_columns = len(numerical_columns)\n",
        "\n",
        "print(f'Number of Categorical Columns: {num_categorical_columns}')\n",
        "print(f'Number of Numerical Columns: {num_numerical_columns}')"
      ],
      "metadata": {
        "colab": {
          "base_uri": "https://localhost:8080/"
        },
        "id": "fytzVQrJNt44",
        "outputId": "1336876f-2586-453c-acdc-aab9036597db"
      },
      "execution_count": 17,
      "outputs": [
        {
          "output_type": "stream",
          "name": "stdout",
          "text": [
            "Number of Categorical Columns: 6\n",
            "Number of Numerical Columns: 17\n"
          ]
        }
      ]
    },
    {
      "cell_type": "code",
      "source": [
        "# Descriptive analysis for categorical data\n",
        "df.describe(include='O')"
      ],
      "metadata": {
        "colab": {
          "base_uri": "https://localhost:8080/",
          "height": 175
        },
        "id": "NwdIFEHZL1u9",
        "outputId": "c85c4053-7757-42e5-ca4c-0fe705ce0737"
      },
      "execution_count": 12,
      "outputs": [
        {
          "output_type": "execute_result",
          "data": {
            "text/plain": [
              "           Attrition_Flag Gender Education_Level Marital_Status  \\\n",
              "count               10127  10127           10127          10127   \n",
              "unique                  2      2               7              4   \n",
              "top     Existing Customer      F        Graduate        Married   \n",
              "freq                 8500   5358            3128           4687   \n",
              "\n",
              "       Income_Category Card_Category  \n",
              "count            10127         10127  \n",
              "unique               6             4  \n",
              "top     Less than $40K          Blue  \n",
              "freq              3561          9436  "
            ],
            "text/html": [
              "\n",
              "  <div id=\"df-c4a15253-e23c-46b1-9f5c-260e3b0f6cca\" class=\"colab-df-container\">\n",
              "    <div>\n",
              "<style scoped>\n",
              "    .dataframe tbody tr th:only-of-type {\n",
              "        vertical-align: middle;\n",
              "    }\n",
              "\n",
              "    .dataframe tbody tr th {\n",
              "        vertical-align: top;\n",
              "    }\n",
              "\n",
              "    .dataframe thead th {\n",
              "        text-align: right;\n",
              "    }\n",
              "</style>\n",
              "<table border=\"1\" class=\"dataframe\">\n",
              "  <thead>\n",
              "    <tr style=\"text-align: right;\">\n",
              "      <th></th>\n",
              "      <th>Attrition_Flag</th>\n",
              "      <th>Gender</th>\n",
              "      <th>Education_Level</th>\n",
              "      <th>Marital_Status</th>\n",
              "      <th>Income_Category</th>\n",
              "      <th>Card_Category</th>\n",
              "    </tr>\n",
              "  </thead>\n",
              "  <tbody>\n",
              "    <tr>\n",
              "      <th>count</th>\n",
              "      <td>10127</td>\n",
              "      <td>10127</td>\n",
              "      <td>10127</td>\n",
              "      <td>10127</td>\n",
              "      <td>10127</td>\n",
              "      <td>10127</td>\n",
              "    </tr>\n",
              "    <tr>\n",
              "      <th>unique</th>\n",
              "      <td>2</td>\n",
              "      <td>2</td>\n",
              "      <td>7</td>\n",
              "      <td>4</td>\n",
              "      <td>6</td>\n",
              "      <td>4</td>\n",
              "    </tr>\n",
              "    <tr>\n",
              "      <th>top</th>\n",
              "      <td>Existing Customer</td>\n",
              "      <td>F</td>\n",
              "      <td>Graduate</td>\n",
              "      <td>Married</td>\n",
              "      <td>Less than $40K</td>\n",
              "      <td>Blue</td>\n",
              "    </tr>\n",
              "    <tr>\n",
              "      <th>freq</th>\n",
              "      <td>8500</td>\n",
              "      <td>5358</td>\n",
              "      <td>3128</td>\n",
              "      <td>4687</td>\n",
              "      <td>3561</td>\n",
              "      <td>9436</td>\n",
              "    </tr>\n",
              "  </tbody>\n",
              "</table>\n",
              "</div>\n",
              "    <div class=\"colab-df-buttons\">\n",
              "\n",
              "  <div class=\"colab-df-container\">\n",
              "    <button class=\"colab-df-convert\" onclick=\"convertToInteractive('df-c4a15253-e23c-46b1-9f5c-260e3b0f6cca')\"\n",
              "            title=\"Convert this dataframe to an interactive table.\"\n",
              "            style=\"display:none;\">\n",
              "\n",
              "  <svg xmlns=\"http://www.w3.org/2000/svg\" height=\"24px\" viewBox=\"0 -960 960 960\">\n",
              "    <path d=\"M120-120v-720h720v720H120Zm60-500h600v-160H180v160Zm220 220h160v-160H400v160Zm0 220h160v-160H400v160ZM180-400h160v-160H180v160Zm440 0h160v-160H620v160ZM180-180h160v-160H180v160Zm440 0h160v-160H620v160Z\"/>\n",
              "  </svg>\n",
              "    </button>\n",
              "\n",
              "  <style>\n",
              "    .colab-df-container {\n",
              "      display:flex;\n",
              "      gap: 12px;\n",
              "    }\n",
              "\n",
              "    .colab-df-convert {\n",
              "      background-color: #E8F0FE;\n",
              "      border: none;\n",
              "      border-radius: 50%;\n",
              "      cursor: pointer;\n",
              "      display: none;\n",
              "      fill: #1967D2;\n",
              "      height: 32px;\n",
              "      padding: 0 0 0 0;\n",
              "      width: 32px;\n",
              "    }\n",
              "\n",
              "    .colab-df-convert:hover {\n",
              "      background-color: #E2EBFA;\n",
              "      box-shadow: 0px 1px 2px rgba(60, 64, 67, 0.3), 0px 1px 3px 1px rgba(60, 64, 67, 0.15);\n",
              "      fill: #174EA6;\n",
              "    }\n",
              "\n",
              "    .colab-df-buttons div {\n",
              "      margin-bottom: 4px;\n",
              "    }\n",
              "\n",
              "    [theme=dark] .colab-df-convert {\n",
              "      background-color: #3B4455;\n",
              "      fill: #D2E3FC;\n",
              "    }\n",
              "\n",
              "    [theme=dark] .colab-df-convert:hover {\n",
              "      background-color: #434B5C;\n",
              "      box-shadow: 0px 1px 3px 1px rgba(0, 0, 0, 0.15);\n",
              "      filter: drop-shadow(0px 1px 2px rgba(0, 0, 0, 0.3));\n",
              "      fill: #FFFFFF;\n",
              "    }\n",
              "  </style>\n",
              "\n",
              "    <script>\n",
              "      const buttonEl =\n",
              "        document.querySelector('#df-c4a15253-e23c-46b1-9f5c-260e3b0f6cca button.colab-df-convert');\n",
              "      buttonEl.style.display =\n",
              "        google.colab.kernel.accessAllowed ? 'block' : 'none';\n",
              "\n",
              "      async function convertToInteractive(key) {\n",
              "        const element = document.querySelector('#df-c4a15253-e23c-46b1-9f5c-260e3b0f6cca');\n",
              "        const dataTable =\n",
              "          await google.colab.kernel.invokeFunction('convertToInteractive',\n",
              "                                                    [key], {});\n",
              "        if (!dataTable) return;\n",
              "\n",
              "        const docLinkHtml = 'Like what you see? Visit the ' +\n",
              "          '<a target=\"_blank\" href=https://colab.research.google.com/notebooks/data_table.ipynb>data table notebook</a>'\n",
              "          + ' to learn more about interactive tables.';\n",
              "        element.innerHTML = '';\n",
              "        dataTable['output_type'] = 'display_data';\n",
              "        await google.colab.output.renderOutput(dataTable, element);\n",
              "        const docLink = document.createElement('div');\n",
              "        docLink.innerHTML = docLinkHtml;\n",
              "        element.appendChild(docLink);\n",
              "      }\n",
              "    </script>\n",
              "  </div>\n",
              "\n",
              "\n",
              "<div id=\"df-94f0336a-6e47-4950-9d24-0b4a86363466\">\n",
              "  <button class=\"colab-df-quickchart\" onclick=\"quickchart('df-94f0336a-6e47-4950-9d24-0b4a86363466')\"\n",
              "            title=\"Suggest charts\"\n",
              "            style=\"display:none;\">\n",
              "\n",
              "<svg xmlns=\"http://www.w3.org/2000/svg\" height=\"24px\"viewBox=\"0 0 24 24\"\n",
              "     width=\"24px\">\n",
              "    <g>\n",
              "        <path d=\"M19 3H5c-1.1 0-2 .9-2 2v14c0 1.1.9 2 2 2h14c1.1 0 2-.9 2-2V5c0-1.1-.9-2-2-2zM9 17H7v-7h2v7zm4 0h-2V7h2v10zm4 0h-2v-4h2v4z\"/>\n",
              "    </g>\n",
              "</svg>\n",
              "  </button>\n",
              "\n",
              "<style>\n",
              "  .colab-df-quickchart {\n",
              "      --bg-color: #E8F0FE;\n",
              "      --fill-color: #1967D2;\n",
              "      --hover-bg-color: #E2EBFA;\n",
              "      --hover-fill-color: #174EA6;\n",
              "      --disabled-fill-color: #AAA;\n",
              "      --disabled-bg-color: #DDD;\n",
              "  }\n",
              "\n",
              "  [theme=dark] .colab-df-quickchart {\n",
              "      --bg-color: #3B4455;\n",
              "      --fill-color: #D2E3FC;\n",
              "      --hover-bg-color: #434B5C;\n",
              "      --hover-fill-color: #FFFFFF;\n",
              "      --disabled-bg-color: #3B4455;\n",
              "      --disabled-fill-color: #666;\n",
              "  }\n",
              "\n",
              "  .colab-df-quickchart {\n",
              "    background-color: var(--bg-color);\n",
              "    border: none;\n",
              "    border-radius: 50%;\n",
              "    cursor: pointer;\n",
              "    display: none;\n",
              "    fill: var(--fill-color);\n",
              "    height: 32px;\n",
              "    padding: 0;\n",
              "    width: 32px;\n",
              "  }\n",
              "\n",
              "  .colab-df-quickchart:hover {\n",
              "    background-color: var(--hover-bg-color);\n",
              "    box-shadow: 0 1px 2px rgba(60, 64, 67, 0.3), 0 1px 3px 1px rgba(60, 64, 67, 0.15);\n",
              "    fill: var(--button-hover-fill-color);\n",
              "  }\n",
              "\n",
              "  .colab-df-quickchart-complete:disabled,\n",
              "  .colab-df-quickchart-complete:disabled:hover {\n",
              "    background-color: var(--disabled-bg-color);\n",
              "    fill: var(--disabled-fill-color);\n",
              "    box-shadow: none;\n",
              "  }\n",
              "\n",
              "  .colab-df-spinner {\n",
              "    border: 2px solid var(--fill-color);\n",
              "    border-color: transparent;\n",
              "    border-bottom-color: var(--fill-color);\n",
              "    animation:\n",
              "      spin 1s steps(1) infinite;\n",
              "  }\n",
              "\n",
              "  @keyframes spin {\n",
              "    0% {\n",
              "      border-color: transparent;\n",
              "      border-bottom-color: var(--fill-color);\n",
              "      border-left-color: var(--fill-color);\n",
              "    }\n",
              "    20% {\n",
              "      border-color: transparent;\n",
              "      border-left-color: var(--fill-color);\n",
              "      border-top-color: var(--fill-color);\n",
              "    }\n",
              "    30% {\n",
              "      border-color: transparent;\n",
              "      border-left-color: var(--fill-color);\n",
              "      border-top-color: var(--fill-color);\n",
              "      border-right-color: var(--fill-color);\n",
              "    }\n",
              "    40% {\n",
              "      border-color: transparent;\n",
              "      border-right-color: var(--fill-color);\n",
              "      border-top-color: var(--fill-color);\n",
              "    }\n",
              "    60% {\n",
              "      border-color: transparent;\n",
              "      border-right-color: var(--fill-color);\n",
              "    }\n",
              "    80% {\n",
              "      border-color: transparent;\n",
              "      border-right-color: var(--fill-color);\n",
              "      border-bottom-color: var(--fill-color);\n",
              "    }\n",
              "    90% {\n",
              "      border-color: transparent;\n",
              "      border-bottom-color: var(--fill-color);\n",
              "    }\n",
              "  }\n",
              "</style>\n",
              "\n",
              "  <script>\n",
              "    async function quickchart(key) {\n",
              "      const quickchartButtonEl =\n",
              "        document.querySelector('#' + key + ' button');\n",
              "      quickchartButtonEl.disabled = true;  // To prevent multiple clicks.\n",
              "      quickchartButtonEl.classList.add('colab-df-spinner');\n",
              "      try {\n",
              "        const charts = await google.colab.kernel.invokeFunction(\n",
              "            'suggestCharts', [key], {});\n",
              "      } catch (error) {\n",
              "        console.error('Error during call to suggestCharts:', error);\n",
              "      }\n",
              "      quickchartButtonEl.classList.remove('colab-df-spinner');\n",
              "      quickchartButtonEl.classList.add('colab-df-quickchart-complete');\n",
              "    }\n",
              "    (() => {\n",
              "      let quickchartButtonEl =\n",
              "        document.querySelector('#df-94f0336a-6e47-4950-9d24-0b4a86363466 button');\n",
              "      quickchartButtonEl.style.display =\n",
              "        google.colab.kernel.accessAllowed ? 'block' : 'none';\n",
              "    })();\n",
              "  </script>\n",
              "</div>\n",
              "\n",
              "    </div>\n",
              "  </div>\n"
            ]
          },
          "metadata": {},
          "execution_count": 12
        }
      ]
    },
    {
      "cell_type": "code",
      "source": [
        "# Descriptive analysis for numerical data\n",
        "df.describe()"
      ],
      "metadata": {
        "colab": {
          "base_uri": "https://localhost:8080/",
          "height": 320
        },
        "id": "Wt8vaLoGLoeg",
        "outputId": "193347c5-3b51-4d59-d2d4-ca02538542d4"
      },
      "execution_count": 10,
      "outputs": [
        {
          "output_type": "execute_result",
          "data": {
            "text/plain": [
              "          CLIENTNUM  Customer_Age  Dependent_count  Months_on_book  \\\n",
              "count  1.012700e+04  10127.000000     10127.000000    10127.000000   \n",
              "mean   7.391776e+08     46.325960         2.346203       35.928409   \n",
              "std    3.690378e+07      8.016814         1.298908        7.986416   \n",
              "min    7.080821e+08     26.000000         0.000000       13.000000   \n",
              "25%    7.130368e+08     41.000000         1.000000       31.000000   \n",
              "50%    7.179264e+08     46.000000         2.000000       36.000000   \n",
              "75%    7.731435e+08     52.000000         3.000000       40.000000   \n",
              "max    8.283431e+08     73.000000         5.000000       56.000000   \n",
              "\n",
              "       Total_Relationship_Count  Months_Inactive_12_mon  \\\n",
              "count              10127.000000            10127.000000   \n",
              "mean                   3.812580                2.341167   \n",
              "std                    1.554408                1.010622   \n",
              "min                    1.000000                0.000000   \n",
              "25%                    3.000000                2.000000   \n",
              "50%                    4.000000                2.000000   \n",
              "75%                    5.000000                3.000000   \n",
              "max                    6.000000                6.000000   \n",
              "\n",
              "       Contacts_Count_12_mon  Credit_Limit  Total_Revolving_Bal  \\\n",
              "count           10127.000000  10127.000000         10127.000000   \n",
              "mean                2.455317   8631.953698          1162.814061   \n",
              "std                 1.106225   9088.776650           814.987335   \n",
              "min                 0.000000   1438.300000             0.000000   \n",
              "25%                 2.000000   2555.000000           359.000000   \n",
              "50%                 2.000000   4549.000000          1276.000000   \n",
              "75%                 3.000000  11067.500000          1784.000000   \n",
              "max                 6.000000  34516.000000          2517.000000   \n",
              "\n",
              "       Avg_Open_To_Buy  Total_Amt_Chng_Q4_Q1  Total_Trans_Amt  Total_Trans_Ct  \\\n",
              "count     10127.000000          10127.000000     10127.000000    10127.000000   \n",
              "mean       7469.139637              0.759941      4404.086304       64.858695   \n",
              "std        9090.685324              0.219207      3397.129254       23.472570   \n",
              "min           3.000000              0.000000       510.000000       10.000000   \n",
              "25%        1324.500000              0.631000      2155.500000       45.000000   \n",
              "50%        3474.000000              0.736000      3899.000000       67.000000   \n",
              "75%        9859.000000              0.859000      4741.000000       81.000000   \n",
              "max       34516.000000              3.397000     18484.000000      139.000000   \n",
              "\n",
              "       Total_Ct_Chng_Q4_Q1  Avg_Utilization_Ratio  \\\n",
              "count         10127.000000           10127.000000   \n",
              "mean              0.712222               0.274894   \n",
              "std               0.238086               0.275691   \n",
              "min               0.000000               0.000000   \n",
              "25%               0.582000               0.023000   \n",
              "50%               0.702000               0.176000   \n",
              "75%               0.818000               0.503000   \n",
              "max               3.714000               0.999000   \n",
              "\n",
              "       Naive_Bayes_Classifier_Attrition_Flag_Card_Category_Contacts_Count_12_mon_Dependent_count_Education_Level_Months_Inactive_12_mon_1  \\\n",
              "count                                       10127.000000                                                                                    \n",
              "mean                                            0.159997                                                                                    \n",
              "std                                             0.365301                                                                                    \n",
              "min                                             0.000008                                                                                    \n",
              "25%                                             0.000099                                                                                    \n",
              "50%                                             0.000181                                                                                    \n",
              "75%                                             0.000337                                                                                    \n",
              "max                                             0.999580                                                                                    \n",
              "\n",
              "       Naive_Bayes_Classifier_Attrition_Flag_Card_Category_Contacts_Count_12_mon_Dependent_count_Education_Level_Months_Inactive_12_mon_2  \n",
              "count                                       10127.000000                                                                                   \n",
              "mean                                            0.840003                                                                                   \n",
              "std                                             0.365301                                                                                   \n",
              "min                                             0.000420                                                                                   \n",
              "25%                                             0.999660                                                                                   \n",
              "50%                                             0.999820                                                                                   \n",
              "75%                                             0.999900                                                                                   \n",
              "max                                             0.999990                                                                                   "
            ],
            "text/html": [
              "\n",
              "  <div id=\"df-cd372064-6e16-4838-8011-a871019156ad\" class=\"colab-df-container\">\n",
              "    <div>\n",
              "<style scoped>\n",
              "    .dataframe tbody tr th:only-of-type {\n",
              "        vertical-align: middle;\n",
              "    }\n",
              "\n",
              "    .dataframe tbody tr th {\n",
              "        vertical-align: top;\n",
              "    }\n",
              "\n",
              "    .dataframe thead th {\n",
              "        text-align: right;\n",
              "    }\n",
              "</style>\n",
              "<table border=\"1\" class=\"dataframe\">\n",
              "  <thead>\n",
              "    <tr style=\"text-align: right;\">\n",
              "      <th></th>\n",
              "      <th>CLIENTNUM</th>\n",
              "      <th>Customer_Age</th>\n",
              "      <th>Dependent_count</th>\n",
              "      <th>Months_on_book</th>\n",
              "      <th>Total_Relationship_Count</th>\n",
              "      <th>Months_Inactive_12_mon</th>\n",
              "      <th>Contacts_Count_12_mon</th>\n",
              "      <th>Credit_Limit</th>\n",
              "      <th>Total_Revolving_Bal</th>\n",
              "      <th>Avg_Open_To_Buy</th>\n",
              "      <th>Total_Amt_Chng_Q4_Q1</th>\n",
              "      <th>Total_Trans_Amt</th>\n",
              "      <th>Total_Trans_Ct</th>\n",
              "      <th>Total_Ct_Chng_Q4_Q1</th>\n",
              "      <th>Avg_Utilization_Ratio</th>\n",
              "      <th>Naive_Bayes_Classifier_Attrition_Flag_Card_Category_Contacts_Count_12_mon_Dependent_count_Education_Level_Months_Inactive_12_mon_1</th>\n",
              "      <th>Naive_Bayes_Classifier_Attrition_Flag_Card_Category_Contacts_Count_12_mon_Dependent_count_Education_Level_Months_Inactive_12_mon_2</th>\n",
              "    </tr>\n",
              "  </thead>\n",
              "  <tbody>\n",
              "    <tr>\n",
              "      <th>count</th>\n",
              "      <td>1.012700e+04</td>\n",
              "      <td>10127.000000</td>\n",
              "      <td>10127.000000</td>\n",
              "      <td>10127.000000</td>\n",
              "      <td>10127.000000</td>\n",
              "      <td>10127.000000</td>\n",
              "      <td>10127.000000</td>\n",
              "      <td>10127.000000</td>\n",
              "      <td>10127.000000</td>\n",
              "      <td>10127.000000</td>\n",
              "      <td>10127.000000</td>\n",
              "      <td>10127.000000</td>\n",
              "      <td>10127.000000</td>\n",
              "      <td>10127.000000</td>\n",
              "      <td>10127.000000</td>\n",
              "      <td>10127.000000</td>\n",
              "      <td>10127.000000</td>\n",
              "    </tr>\n",
              "    <tr>\n",
              "      <th>mean</th>\n",
              "      <td>7.391776e+08</td>\n",
              "      <td>46.325960</td>\n",
              "      <td>2.346203</td>\n",
              "      <td>35.928409</td>\n",
              "      <td>3.812580</td>\n",
              "      <td>2.341167</td>\n",
              "      <td>2.455317</td>\n",
              "      <td>8631.953698</td>\n",
              "      <td>1162.814061</td>\n",
              "      <td>7469.139637</td>\n",
              "      <td>0.759941</td>\n",
              "      <td>4404.086304</td>\n",
              "      <td>64.858695</td>\n",
              "      <td>0.712222</td>\n",
              "      <td>0.274894</td>\n",
              "      <td>0.159997</td>\n",
              "      <td>0.840003</td>\n",
              "    </tr>\n",
              "    <tr>\n",
              "      <th>std</th>\n",
              "      <td>3.690378e+07</td>\n",
              "      <td>8.016814</td>\n",
              "      <td>1.298908</td>\n",
              "      <td>7.986416</td>\n",
              "      <td>1.554408</td>\n",
              "      <td>1.010622</td>\n",
              "      <td>1.106225</td>\n",
              "      <td>9088.776650</td>\n",
              "      <td>814.987335</td>\n",
              "      <td>9090.685324</td>\n",
              "      <td>0.219207</td>\n",
              "      <td>3397.129254</td>\n",
              "      <td>23.472570</td>\n",
              "      <td>0.238086</td>\n",
              "      <td>0.275691</td>\n",
              "      <td>0.365301</td>\n",
              "      <td>0.365301</td>\n",
              "    </tr>\n",
              "    <tr>\n",
              "      <th>min</th>\n",
              "      <td>7.080821e+08</td>\n",
              "      <td>26.000000</td>\n",
              "      <td>0.000000</td>\n",
              "      <td>13.000000</td>\n",
              "      <td>1.000000</td>\n",
              "      <td>0.000000</td>\n",
              "      <td>0.000000</td>\n",
              "      <td>1438.300000</td>\n",
              "      <td>0.000000</td>\n",
              "      <td>3.000000</td>\n",
              "      <td>0.000000</td>\n",
              "      <td>510.000000</td>\n",
              "      <td>10.000000</td>\n",
              "      <td>0.000000</td>\n",
              "      <td>0.000000</td>\n",
              "      <td>0.000008</td>\n",
              "      <td>0.000420</td>\n",
              "    </tr>\n",
              "    <tr>\n",
              "      <th>25%</th>\n",
              "      <td>7.130368e+08</td>\n",
              "      <td>41.000000</td>\n",
              "      <td>1.000000</td>\n",
              "      <td>31.000000</td>\n",
              "      <td>3.000000</td>\n",
              "      <td>2.000000</td>\n",
              "      <td>2.000000</td>\n",
              "      <td>2555.000000</td>\n",
              "      <td>359.000000</td>\n",
              "      <td>1324.500000</td>\n",
              "      <td>0.631000</td>\n",
              "      <td>2155.500000</td>\n",
              "      <td>45.000000</td>\n",
              "      <td>0.582000</td>\n",
              "      <td>0.023000</td>\n",
              "      <td>0.000099</td>\n",
              "      <td>0.999660</td>\n",
              "    </tr>\n",
              "    <tr>\n",
              "      <th>50%</th>\n",
              "      <td>7.179264e+08</td>\n",
              "      <td>46.000000</td>\n",
              "      <td>2.000000</td>\n",
              "      <td>36.000000</td>\n",
              "      <td>4.000000</td>\n",
              "      <td>2.000000</td>\n",
              "      <td>2.000000</td>\n",
              "      <td>4549.000000</td>\n",
              "      <td>1276.000000</td>\n",
              "      <td>3474.000000</td>\n",
              "      <td>0.736000</td>\n",
              "      <td>3899.000000</td>\n",
              "      <td>67.000000</td>\n",
              "      <td>0.702000</td>\n",
              "      <td>0.176000</td>\n",
              "      <td>0.000181</td>\n",
              "      <td>0.999820</td>\n",
              "    </tr>\n",
              "    <tr>\n",
              "      <th>75%</th>\n",
              "      <td>7.731435e+08</td>\n",
              "      <td>52.000000</td>\n",
              "      <td>3.000000</td>\n",
              "      <td>40.000000</td>\n",
              "      <td>5.000000</td>\n",
              "      <td>3.000000</td>\n",
              "      <td>3.000000</td>\n",
              "      <td>11067.500000</td>\n",
              "      <td>1784.000000</td>\n",
              "      <td>9859.000000</td>\n",
              "      <td>0.859000</td>\n",
              "      <td>4741.000000</td>\n",
              "      <td>81.000000</td>\n",
              "      <td>0.818000</td>\n",
              "      <td>0.503000</td>\n",
              "      <td>0.000337</td>\n",
              "      <td>0.999900</td>\n",
              "    </tr>\n",
              "    <tr>\n",
              "      <th>max</th>\n",
              "      <td>8.283431e+08</td>\n",
              "      <td>73.000000</td>\n",
              "      <td>5.000000</td>\n",
              "      <td>56.000000</td>\n",
              "      <td>6.000000</td>\n",
              "      <td>6.000000</td>\n",
              "      <td>6.000000</td>\n",
              "      <td>34516.000000</td>\n",
              "      <td>2517.000000</td>\n",
              "      <td>34516.000000</td>\n",
              "      <td>3.397000</td>\n",
              "      <td>18484.000000</td>\n",
              "      <td>139.000000</td>\n",
              "      <td>3.714000</td>\n",
              "      <td>0.999000</td>\n",
              "      <td>0.999580</td>\n",
              "      <td>0.999990</td>\n",
              "    </tr>\n",
              "  </tbody>\n",
              "</table>\n",
              "</div>\n",
              "    <div class=\"colab-df-buttons\">\n",
              "\n",
              "  <div class=\"colab-df-container\">\n",
              "    <button class=\"colab-df-convert\" onclick=\"convertToInteractive('df-cd372064-6e16-4838-8011-a871019156ad')\"\n",
              "            title=\"Convert this dataframe to an interactive table.\"\n",
              "            style=\"display:none;\">\n",
              "\n",
              "  <svg xmlns=\"http://www.w3.org/2000/svg\" height=\"24px\" viewBox=\"0 -960 960 960\">\n",
              "    <path d=\"M120-120v-720h720v720H120Zm60-500h600v-160H180v160Zm220 220h160v-160H400v160Zm0 220h160v-160H400v160ZM180-400h160v-160H180v160Zm440 0h160v-160H620v160ZM180-180h160v-160H180v160Zm440 0h160v-160H620v160Z\"/>\n",
              "  </svg>\n",
              "    </button>\n",
              "\n",
              "  <style>\n",
              "    .colab-df-container {\n",
              "      display:flex;\n",
              "      gap: 12px;\n",
              "    }\n",
              "\n",
              "    .colab-df-convert {\n",
              "      background-color: #E8F0FE;\n",
              "      border: none;\n",
              "      border-radius: 50%;\n",
              "      cursor: pointer;\n",
              "      display: none;\n",
              "      fill: #1967D2;\n",
              "      height: 32px;\n",
              "      padding: 0 0 0 0;\n",
              "      width: 32px;\n",
              "    }\n",
              "\n",
              "    .colab-df-convert:hover {\n",
              "      background-color: #E2EBFA;\n",
              "      box-shadow: 0px 1px 2px rgba(60, 64, 67, 0.3), 0px 1px 3px 1px rgba(60, 64, 67, 0.15);\n",
              "      fill: #174EA6;\n",
              "    }\n",
              "\n",
              "    .colab-df-buttons div {\n",
              "      margin-bottom: 4px;\n",
              "    }\n",
              "\n",
              "    [theme=dark] .colab-df-convert {\n",
              "      background-color: #3B4455;\n",
              "      fill: #D2E3FC;\n",
              "    }\n",
              "\n",
              "    [theme=dark] .colab-df-convert:hover {\n",
              "      background-color: #434B5C;\n",
              "      box-shadow: 0px 1px 3px 1px rgba(0, 0, 0, 0.15);\n",
              "      filter: drop-shadow(0px 1px 2px rgba(0, 0, 0, 0.3));\n",
              "      fill: #FFFFFF;\n",
              "    }\n",
              "  </style>\n",
              "\n",
              "    <script>\n",
              "      const buttonEl =\n",
              "        document.querySelector('#df-cd372064-6e16-4838-8011-a871019156ad button.colab-df-convert');\n",
              "      buttonEl.style.display =\n",
              "        google.colab.kernel.accessAllowed ? 'block' : 'none';\n",
              "\n",
              "      async function convertToInteractive(key) {\n",
              "        const element = document.querySelector('#df-cd372064-6e16-4838-8011-a871019156ad');\n",
              "        const dataTable =\n",
              "          await google.colab.kernel.invokeFunction('convertToInteractive',\n",
              "                                                    [key], {});\n",
              "        if (!dataTable) return;\n",
              "\n",
              "        const docLinkHtml = 'Like what you see? Visit the ' +\n",
              "          '<a target=\"_blank\" href=https://colab.research.google.com/notebooks/data_table.ipynb>data table notebook</a>'\n",
              "          + ' to learn more about interactive tables.';\n",
              "        element.innerHTML = '';\n",
              "        dataTable['output_type'] = 'display_data';\n",
              "        await google.colab.output.renderOutput(dataTable, element);\n",
              "        const docLink = document.createElement('div');\n",
              "        docLink.innerHTML = docLinkHtml;\n",
              "        element.appendChild(docLink);\n",
              "      }\n",
              "    </script>\n",
              "  </div>\n",
              "\n",
              "\n",
              "<div id=\"df-93d521aa-9fe3-478d-8d9e-772bcd276742\">\n",
              "  <button class=\"colab-df-quickchart\" onclick=\"quickchart('df-93d521aa-9fe3-478d-8d9e-772bcd276742')\"\n",
              "            title=\"Suggest charts\"\n",
              "            style=\"display:none;\">\n",
              "\n",
              "<svg xmlns=\"http://www.w3.org/2000/svg\" height=\"24px\"viewBox=\"0 0 24 24\"\n",
              "     width=\"24px\">\n",
              "    <g>\n",
              "        <path d=\"M19 3H5c-1.1 0-2 .9-2 2v14c0 1.1.9 2 2 2h14c1.1 0 2-.9 2-2V5c0-1.1-.9-2-2-2zM9 17H7v-7h2v7zm4 0h-2V7h2v10zm4 0h-2v-4h2v4z\"/>\n",
              "    </g>\n",
              "</svg>\n",
              "  </button>\n",
              "\n",
              "<style>\n",
              "  .colab-df-quickchart {\n",
              "      --bg-color: #E8F0FE;\n",
              "      --fill-color: #1967D2;\n",
              "      --hover-bg-color: #E2EBFA;\n",
              "      --hover-fill-color: #174EA6;\n",
              "      --disabled-fill-color: #AAA;\n",
              "      --disabled-bg-color: #DDD;\n",
              "  }\n",
              "\n",
              "  [theme=dark] .colab-df-quickchart {\n",
              "      --bg-color: #3B4455;\n",
              "      --fill-color: #D2E3FC;\n",
              "      --hover-bg-color: #434B5C;\n",
              "      --hover-fill-color: #FFFFFF;\n",
              "      --disabled-bg-color: #3B4455;\n",
              "      --disabled-fill-color: #666;\n",
              "  }\n",
              "\n",
              "  .colab-df-quickchart {\n",
              "    background-color: var(--bg-color);\n",
              "    border: none;\n",
              "    border-radius: 50%;\n",
              "    cursor: pointer;\n",
              "    display: none;\n",
              "    fill: var(--fill-color);\n",
              "    height: 32px;\n",
              "    padding: 0;\n",
              "    width: 32px;\n",
              "  }\n",
              "\n",
              "  .colab-df-quickchart:hover {\n",
              "    background-color: var(--hover-bg-color);\n",
              "    box-shadow: 0 1px 2px rgba(60, 64, 67, 0.3), 0 1px 3px 1px rgba(60, 64, 67, 0.15);\n",
              "    fill: var(--button-hover-fill-color);\n",
              "  }\n",
              "\n",
              "  .colab-df-quickchart-complete:disabled,\n",
              "  .colab-df-quickchart-complete:disabled:hover {\n",
              "    background-color: var(--disabled-bg-color);\n",
              "    fill: var(--disabled-fill-color);\n",
              "    box-shadow: none;\n",
              "  }\n",
              "\n",
              "  .colab-df-spinner {\n",
              "    border: 2px solid var(--fill-color);\n",
              "    border-color: transparent;\n",
              "    border-bottom-color: var(--fill-color);\n",
              "    animation:\n",
              "      spin 1s steps(1) infinite;\n",
              "  }\n",
              "\n",
              "  @keyframes spin {\n",
              "    0% {\n",
              "      border-color: transparent;\n",
              "      border-bottom-color: var(--fill-color);\n",
              "      border-left-color: var(--fill-color);\n",
              "    }\n",
              "    20% {\n",
              "      border-color: transparent;\n",
              "      border-left-color: var(--fill-color);\n",
              "      border-top-color: var(--fill-color);\n",
              "    }\n",
              "    30% {\n",
              "      border-color: transparent;\n",
              "      border-left-color: var(--fill-color);\n",
              "      border-top-color: var(--fill-color);\n",
              "      border-right-color: var(--fill-color);\n",
              "    }\n",
              "    40% {\n",
              "      border-color: transparent;\n",
              "      border-right-color: var(--fill-color);\n",
              "      border-top-color: var(--fill-color);\n",
              "    }\n",
              "    60% {\n",
              "      border-color: transparent;\n",
              "      border-right-color: var(--fill-color);\n",
              "    }\n",
              "    80% {\n",
              "      border-color: transparent;\n",
              "      border-right-color: var(--fill-color);\n",
              "      border-bottom-color: var(--fill-color);\n",
              "    }\n",
              "    90% {\n",
              "      border-color: transparent;\n",
              "      border-bottom-color: var(--fill-color);\n",
              "    }\n",
              "  }\n",
              "</style>\n",
              "\n",
              "  <script>\n",
              "    async function quickchart(key) {\n",
              "      const quickchartButtonEl =\n",
              "        document.querySelector('#' + key + ' button');\n",
              "      quickchartButtonEl.disabled = true;  // To prevent multiple clicks.\n",
              "      quickchartButtonEl.classList.add('colab-df-spinner');\n",
              "      try {\n",
              "        const charts = await google.colab.kernel.invokeFunction(\n",
              "            'suggestCharts', [key], {});\n",
              "      } catch (error) {\n",
              "        console.error('Error during call to suggestCharts:', error);\n",
              "      }\n",
              "      quickchartButtonEl.classList.remove('colab-df-spinner');\n",
              "      quickchartButtonEl.classList.add('colab-df-quickchart-complete');\n",
              "    }\n",
              "    (() => {\n",
              "      let quickchartButtonEl =\n",
              "        document.querySelector('#df-93d521aa-9fe3-478d-8d9e-772bcd276742 button');\n",
              "      quickchartButtonEl.style.display =\n",
              "        google.colab.kernel.accessAllowed ? 'block' : 'none';\n",
              "    })();\n",
              "  </script>\n",
              "</div>\n",
              "\n",
              "    </div>\n",
              "  </div>\n"
            ]
          },
          "metadata": {},
          "execution_count": 10
        }
      ]
    },
    {
      "cell_type": "code",
      "source": [
        "# Getting a glimpse into the dataset\n",
        "df.head()"
      ],
      "metadata": {
        "colab": {
          "base_uri": "https://localhost:8080/",
          "height": 342
        },
        "id": "MJcfnZVALryf",
        "outputId": "f180937d-2d3e-4398-8ee9-7b6793e07fa4"
      },
      "execution_count": 11,
      "outputs": [
        {
          "output_type": "execute_result",
          "data": {
            "text/plain": [
              "   CLIENTNUM     Attrition_Flag  Customer_Age Gender  Dependent_count  \\\n",
              "0  768805383  Existing Customer            45      M                3   \n",
              "1  818770008  Existing Customer            49      F                5   \n",
              "2  713982108  Existing Customer            51      M                3   \n",
              "3  769911858  Existing Customer            40      F                4   \n",
              "4  709106358  Existing Customer            40      M                3   \n",
              "\n",
              "  Education_Level Marital_Status Income_Category Card_Category  \\\n",
              "0     High School        Married     $60K - $80K          Blue   \n",
              "1        Graduate         Single  Less than $40K          Blue   \n",
              "2        Graduate        Married    $80K - $120K          Blue   \n",
              "3     High School        Unknown  Less than $40K          Blue   \n",
              "4      Uneducated        Married     $60K - $80K          Blue   \n",
              "\n",
              "   Months_on_book  ...  Credit_Limit  Total_Revolving_Bal  Avg_Open_To_Buy  \\\n",
              "0              39  ...       12691.0                  777          11914.0   \n",
              "1              44  ...        8256.0                  864           7392.0   \n",
              "2              36  ...        3418.0                    0           3418.0   \n",
              "3              34  ...        3313.0                 2517            796.0   \n",
              "4              21  ...        4716.0                    0           4716.0   \n",
              "\n",
              "   Total_Amt_Chng_Q4_Q1  Total_Trans_Amt  Total_Trans_Ct  Total_Ct_Chng_Q4_Q1  \\\n",
              "0                 1.335             1144              42                1.625   \n",
              "1                 1.541             1291              33                3.714   \n",
              "2                 2.594             1887              20                2.333   \n",
              "3                 1.405             1171              20                2.333   \n",
              "4                 2.175              816              28                2.500   \n",
              "\n",
              "   Avg_Utilization_Ratio  \\\n",
              "0                  0.061   \n",
              "1                  0.105   \n",
              "2                  0.000   \n",
              "3                  0.760   \n",
              "4                  0.000   \n",
              "\n",
              "   Naive_Bayes_Classifier_Attrition_Flag_Card_Category_Contacts_Count_12_mon_Dependent_count_Education_Level_Months_Inactive_12_mon_1  \\\n",
              "0                                           0.000093                                                                                    \n",
              "1                                           0.000057                                                                                    \n",
              "2                                           0.000021                                                                                    \n",
              "3                                           0.000134                                                                                    \n",
              "4                                           0.000022                                                                                    \n",
              "\n",
              "   Naive_Bayes_Classifier_Attrition_Flag_Card_Category_Contacts_Count_12_mon_Dependent_count_Education_Level_Months_Inactive_12_mon_2  \n",
              "0                                            0.99991                                                                                   \n",
              "1                                            0.99994                                                                                   \n",
              "2                                            0.99998                                                                                   \n",
              "3                                            0.99987                                                                                   \n",
              "4                                            0.99998                                                                                   \n",
              "\n",
              "[5 rows x 23 columns]"
            ],
            "text/html": [
              "\n",
              "  <div id=\"df-fada8b4e-86fd-43d9-841f-6141802080a0\" class=\"colab-df-container\">\n",
              "    <div>\n",
              "<style scoped>\n",
              "    .dataframe tbody tr th:only-of-type {\n",
              "        vertical-align: middle;\n",
              "    }\n",
              "\n",
              "    .dataframe tbody tr th {\n",
              "        vertical-align: top;\n",
              "    }\n",
              "\n",
              "    .dataframe thead th {\n",
              "        text-align: right;\n",
              "    }\n",
              "</style>\n",
              "<table border=\"1\" class=\"dataframe\">\n",
              "  <thead>\n",
              "    <tr style=\"text-align: right;\">\n",
              "      <th></th>\n",
              "      <th>CLIENTNUM</th>\n",
              "      <th>Attrition_Flag</th>\n",
              "      <th>Customer_Age</th>\n",
              "      <th>Gender</th>\n",
              "      <th>Dependent_count</th>\n",
              "      <th>Education_Level</th>\n",
              "      <th>Marital_Status</th>\n",
              "      <th>Income_Category</th>\n",
              "      <th>Card_Category</th>\n",
              "      <th>Months_on_book</th>\n",
              "      <th>...</th>\n",
              "      <th>Credit_Limit</th>\n",
              "      <th>Total_Revolving_Bal</th>\n",
              "      <th>Avg_Open_To_Buy</th>\n",
              "      <th>Total_Amt_Chng_Q4_Q1</th>\n",
              "      <th>Total_Trans_Amt</th>\n",
              "      <th>Total_Trans_Ct</th>\n",
              "      <th>Total_Ct_Chng_Q4_Q1</th>\n",
              "      <th>Avg_Utilization_Ratio</th>\n",
              "      <th>Naive_Bayes_Classifier_Attrition_Flag_Card_Category_Contacts_Count_12_mon_Dependent_count_Education_Level_Months_Inactive_12_mon_1</th>\n",
              "      <th>Naive_Bayes_Classifier_Attrition_Flag_Card_Category_Contacts_Count_12_mon_Dependent_count_Education_Level_Months_Inactive_12_mon_2</th>\n",
              "    </tr>\n",
              "  </thead>\n",
              "  <tbody>\n",
              "    <tr>\n",
              "      <th>0</th>\n",
              "      <td>768805383</td>\n",
              "      <td>Existing Customer</td>\n",
              "      <td>45</td>\n",
              "      <td>M</td>\n",
              "      <td>3</td>\n",
              "      <td>High School</td>\n",
              "      <td>Married</td>\n",
              "      <td>$60K - $80K</td>\n",
              "      <td>Blue</td>\n",
              "      <td>39</td>\n",
              "      <td>...</td>\n",
              "      <td>12691.0</td>\n",
              "      <td>777</td>\n",
              "      <td>11914.0</td>\n",
              "      <td>1.335</td>\n",
              "      <td>1144</td>\n",
              "      <td>42</td>\n",
              "      <td>1.625</td>\n",
              "      <td>0.061</td>\n",
              "      <td>0.000093</td>\n",
              "      <td>0.99991</td>\n",
              "    </tr>\n",
              "    <tr>\n",
              "      <th>1</th>\n",
              "      <td>818770008</td>\n",
              "      <td>Existing Customer</td>\n",
              "      <td>49</td>\n",
              "      <td>F</td>\n",
              "      <td>5</td>\n",
              "      <td>Graduate</td>\n",
              "      <td>Single</td>\n",
              "      <td>Less than $40K</td>\n",
              "      <td>Blue</td>\n",
              "      <td>44</td>\n",
              "      <td>...</td>\n",
              "      <td>8256.0</td>\n",
              "      <td>864</td>\n",
              "      <td>7392.0</td>\n",
              "      <td>1.541</td>\n",
              "      <td>1291</td>\n",
              "      <td>33</td>\n",
              "      <td>3.714</td>\n",
              "      <td>0.105</td>\n",
              "      <td>0.000057</td>\n",
              "      <td>0.99994</td>\n",
              "    </tr>\n",
              "    <tr>\n",
              "      <th>2</th>\n",
              "      <td>713982108</td>\n",
              "      <td>Existing Customer</td>\n",
              "      <td>51</td>\n",
              "      <td>M</td>\n",
              "      <td>3</td>\n",
              "      <td>Graduate</td>\n",
              "      <td>Married</td>\n",
              "      <td>$80K - $120K</td>\n",
              "      <td>Blue</td>\n",
              "      <td>36</td>\n",
              "      <td>...</td>\n",
              "      <td>3418.0</td>\n",
              "      <td>0</td>\n",
              "      <td>3418.0</td>\n",
              "      <td>2.594</td>\n",
              "      <td>1887</td>\n",
              "      <td>20</td>\n",
              "      <td>2.333</td>\n",
              "      <td>0.000</td>\n",
              "      <td>0.000021</td>\n",
              "      <td>0.99998</td>\n",
              "    </tr>\n",
              "    <tr>\n",
              "      <th>3</th>\n",
              "      <td>769911858</td>\n",
              "      <td>Existing Customer</td>\n",
              "      <td>40</td>\n",
              "      <td>F</td>\n",
              "      <td>4</td>\n",
              "      <td>High School</td>\n",
              "      <td>Unknown</td>\n",
              "      <td>Less than $40K</td>\n",
              "      <td>Blue</td>\n",
              "      <td>34</td>\n",
              "      <td>...</td>\n",
              "      <td>3313.0</td>\n",
              "      <td>2517</td>\n",
              "      <td>796.0</td>\n",
              "      <td>1.405</td>\n",
              "      <td>1171</td>\n",
              "      <td>20</td>\n",
              "      <td>2.333</td>\n",
              "      <td>0.760</td>\n",
              "      <td>0.000134</td>\n",
              "      <td>0.99987</td>\n",
              "    </tr>\n",
              "    <tr>\n",
              "      <th>4</th>\n",
              "      <td>709106358</td>\n",
              "      <td>Existing Customer</td>\n",
              "      <td>40</td>\n",
              "      <td>M</td>\n",
              "      <td>3</td>\n",
              "      <td>Uneducated</td>\n",
              "      <td>Married</td>\n",
              "      <td>$60K - $80K</td>\n",
              "      <td>Blue</td>\n",
              "      <td>21</td>\n",
              "      <td>...</td>\n",
              "      <td>4716.0</td>\n",
              "      <td>0</td>\n",
              "      <td>4716.0</td>\n",
              "      <td>2.175</td>\n",
              "      <td>816</td>\n",
              "      <td>28</td>\n",
              "      <td>2.500</td>\n",
              "      <td>0.000</td>\n",
              "      <td>0.000022</td>\n",
              "      <td>0.99998</td>\n",
              "    </tr>\n",
              "  </tbody>\n",
              "</table>\n",
              "<p>5 rows × 23 columns</p>\n",
              "</div>\n",
              "    <div class=\"colab-df-buttons\">\n",
              "\n",
              "  <div class=\"colab-df-container\">\n",
              "    <button class=\"colab-df-convert\" onclick=\"convertToInteractive('df-fada8b4e-86fd-43d9-841f-6141802080a0')\"\n",
              "            title=\"Convert this dataframe to an interactive table.\"\n",
              "            style=\"display:none;\">\n",
              "\n",
              "  <svg xmlns=\"http://www.w3.org/2000/svg\" height=\"24px\" viewBox=\"0 -960 960 960\">\n",
              "    <path d=\"M120-120v-720h720v720H120Zm60-500h600v-160H180v160Zm220 220h160v-160H400v160Zm0 220h160v-160H400v160ZM180-400h160v-160H180v160Zm440 0h160v-160H620v160ZM180-180h160v-160H180v160Zm440 0h160v-160H620v160Z\"/>\n",
              "  </svg>\n",
              "    </button>\n",
              "\n",
              "  <style>\n",
              "    .colab-df-container {\n",
              "      display:flex;\n",
              "      gap: 12px;\n",
              "    }\n",
              "\n",
              "    .colab-df-convert {\n",
              "      background-color: #E8F0FE;\n",
              "      border: none;\n",
              "      border-radius: 50%;\n",
              "      cursor: pointer;\n",
              "      display: none;\n",
              "      fill: #1967D2;\n",
              "      height: 32px;\n",
              "      padding: 0 0 0 0;\n",
              "      width: 32px;\n",
              "    }\n",
              "\n",
              "    .colab-df-convert:hover {\n",
              "      background-color: #E2EBFA;\n",
              "      box-shadow: 0px 1px 2px rgba(60, 64, 67, 0.3), 0px 1px 3px 1px rgba(60, 64, 67, 0.15);\n",
              "      fill: #174EA6;\n",
              "    }\n",
              "\n",
              "    .colab-df-buttons div {\n",
              "      margin-bottom: 4px;\n",
              "    }\n",
              "\n",
              "    [theme=dark] .colab-df-convert {\n",
              "      background-color: #3B4455;\n",
              "      fill: #D2E3FC;\n",
              "    }\n",
              "\n",
              "    [theme=dark] .colab-df-convert:hover {\n",
              "      background-color: #434B5C;\n",
              "      box-shadow: 0px 1px 3px 1px rgba(0, 0, 0, 0.15);\n",
              "      filter: drop-shadow(0px 1px 2px rgba(0, 0, 0, 0.3));\n",
              "      fill: #FFFFFF;\n",
              "    }\n",
              "  </style>\n",
              "\n",
              "    <script>\n",
              "      const buttonEl =\n",
              "        document.querySelector('#df-fada8b4e-86fd-43d9-841f-6141802080a0 button.colab-df-convert');\n",
              "      buttonEl.style.display =\n",
              "        google.colab.kernel.accessAllowed ? 'block' : 'none';\n",
              "\n",
              "      async function convertToInteractive(key) {\n",
              "        const element = document.querySelector('#df-fada8b4e-86fd-43d9-841f-6141802080a0');\n",
              "        const dataTable =\n",
              "          await google.colab.kernel.invokeFunction('convertToInteractive',\n",
              "                                                    [key], {});\n",
              "        if (!dataTable) return;\n",
              "\n",
              "        const docLinkHtml = 'Like what you see? Visit the ' +\n",
              "          '<a target=\"_blank\" href=https://colab.research.google.com/notebooks/data_table.ipynb>data table notebook</a>'\n",
              "          + ' to learn more about interactive tables.';\n",
              "        element.innerHTML = '';\n",
              "        dataTable['output_type'] = 'display_data';\n",
              "        await google.colab.output.renderOutput(dataTable, element);\n",
              "        const docLink = document.createElement('div');\n",
              "        docLink.innerHTML = docLinkHtml;\n",
              "        element.appendChild(docLink);\n",
              "      }\n",
              "    </script>\n",
              "  </div>\n",
              "\n",
              "\n",
              "<div id=\"df-75371de9-52d3-413b-b53d-ac94f0fad7ae\">\n",
              "  <button class=\"colab-df-quickchart\" onclick=\"quickchart('df-75371de9-52d3-413b-b53d-ac94f0fad7ae')\"\n",
              "            title=\"Suggest charts\"\n",
              "            style=\"display:none;\">\n",
              "\n",
              "<svg xmlns=\"http://www.w3.org/2000/svg\" height=\"24px\"viewBox=\"0 0 24 24\"\n",
              "     width=\"24px\">\n",
              "    <g>\n",
              "        <path d=\"M19 3H5c-1.1 0-2 .9-2 2v14c0 1.1.9 2 2 2h14c1.1 0 2-.9 2-2V5c0-1.1-.9-2-2-2zM9 17H7v-7h2v7zm4 0h-2V7h2v10zm4 0h-2v-4h2v4z\"/>\n",
              "    </g>\n",
              "</svg>\n",
              "  </button>\n",
              "\n",
              "<style>\n",
              "  .colab-df-quickchart {\n",
              "      --bg-color: #E8F0FE;\n",
              "      --fill-color: #1967D2;\n",
              "      --hover-bg-color: #E2EBFA;\n",
              "      --hover-fill-color: #174EA6;\n",
              "      --disabled-fill-color: #AAA;\n",
              "      --disabled-bg-color: #DDD;\n",
              "  }\n",
              "\n",
              "  [theme=dark] .colab-df-quickchart {\n",
              "      --bg-color: #3B4455;\n",
              "      --fill-color: #D2E3FC;\n",
              "      --hover-bg-color: #434B5C;\n",
              "      --hover-fill-color: #FFFFFF;\n",
              "      --disabled-bg-color: #3B4455;\n",
              "      --disabled-fill-color: #666;\n",
              "  }\n",
              "\n",
              "  .colab-df-quickchart {\n",
              "    background-color: var(--bg-color);\n",
              "    border: none;\n",
              "    border-radius: 50%;\n",
              "    cursor: pointer;\n",
              "    display: none;\n",
              "    fill: var(--fill-color);\n",
              "    height: 32px;\n",
              "    padding: 0;\n",
              "    width: 32px;\n",
              "  }\n",
              "\n",
              "  .colab-df-quickchart:hover {\n",
              "    background-color: var(--hover-bg-color);\n",
              "    box-shadow: 0 1px 2px rgba(60, 64, 67, 0.3), 0 1px 3px 1px rgba(60, 64, 67, 0.15);\n",
              "    fill: var(--button-hover-fill-color);\n",
              "  }\n",
              "\n",
              "  .colab-df-quickchart-complete:disabled,\n",
              "  .colab-df-quickchart-complete:disabled:hover {\n",
              "    background-color: var(--disabled-bg-color);\n",
              "    fill: var(--disabled-fill-color);\n",
              "    box-shadow: none;\n",
              "  }\n",
              "\n",
              "  .colab-df-spinner {\n",
              "    border: 2px solid var(--fill-color);\n",
              "    border-color: transparent;\n",
              "    border-bottom-color: var(--fill-color);\n",
              "    animation:\n",
              "      spin 1s steps(1) infinite;\n",
              "  }\n",
              "\n",
              "  @keyframes spin {\n",
              "    0% {\n",
              "      border-color: transparent;\n",
              "      border-bottom-color: var(--fill-color);\n",
              "      border-left-color: var(--fill-color);\n",
              "    }\n",
              "    20% {\n",
              "      border-color: transparent;\n",
              "      border-left-color: var(--fill-color);\n",
              "      border-top-color: var(--fill-color);\n",
              "    }\n",
              "    30% {\n",
              "      border-color: transparent;\n",
              "      border-left-color: var(--fill-color);\n",
              "      border-top-color: var(--fill-color);\n",
              "      border-right-color: var(--fill-color);\n",
              "    }\n",
              "    40% {\n",
              "      border-color: transparent;\n",
              "      border-right-color: var(--fill-color);\n",
              "      border-top-color: var(--fill-color);\n",
              "    }\n",
              "    60% {\n",
              "      border-color: transparent;\n",
              "      border-right-color: var(--fill-color);\n",
              "    }\n",
              "    80% {\n",
              "      border-color: transparent;\n",
              "      border-right-color: var(--fill-color);\n",
              "      border-bottom-color: var(--fill-color);\n",
              "    }\n",
              "    90% {\n",
              "      border-color: transparent;\n",
              "      border-bottom-color: var(--fill-color);\n",
              "    }\n",
              "  }\n",
              "</style>\n",
              "\n",
              "  <script>\n",
              "    async function quickchart(key) {\n",
              "      const quickchartButtonEl =\n",
              "        document.querySelector('#' + key + ' button');\n",
              "      quickchartButtonEl.disabled = true;  // To prevent multiple clicks.\n",
              "      quickchartButtonEl.classList.add('colab-df-spinner');\n",
              "      try {\n",
              "        const charts = await google.colab.kernel.invokeFunction(\n",
              "            'suggestCharts', [key], {});\n",
              "      } catch (error) {\n",
              "        console.error('Error during call to suggestCharts:', error);\n",
              "      }\n",
              "      quickchartButtonEl.classList.remove('colab-df-spinner');\n",
              "      quickchartButtonEl.classList.add('colab-df-quickchart-complete');\n",
              "    }\n",
              "    (() => {\n",
              "      let quickchartButtonEl =\n",
              "        document.querySelector('#df-75371de9-52d3-413b-b53d-ac94f0fad7ae button');\n",
              "      quickchartButtonEl.style.display =\n",
              "        google.colab.kernel.accessAllowed ? 'block' : 'none';\n",
              "    })();\n",
              "  </script>\n",
              "</div>\n",
              "\n",
              "    </div>\n",
              "  </div>\n"
            ]
          },
          "metadata": {},
          "execution_count": 11
        }
      ]
    },
    {
      "cell_type": "code",
      "source": [
        "# Checking names of columns\n",
        "df.columns"
      ],
      "metadata": {
        "colab": {
          "base_uri": "https://localhost:8080/"
        },
        "id": "KiuW3HCNLxd_",
        "outputId": "071564b3-70fb-49fd-cd02-9e132c9356a9"
      },
      "execution_count": 13,
      "outputs": [
        {
          "output_type": "execute_result",
          "data": {
            "text/plain": [
              "Index(['CLIENTNUM', 'Attrition_Flag', 'Customer_Age', 'Gender',\n",
              "       'Dependent_count', 'Education_Level', 'Marital_Status',\n",
              "       'Income_Category', 'Card_Category', 'Months_on_book',\n",
              "       'Total_Relationship_Count', 'Months_Inactive_12_mon',\n",
              "       'Contacts_Count_12_mon', 'Credit_Limit', 'Total_Revolving_Bal',\n",
              "       'Avg_Open_To_Buy', 'Total_Amt_Chng_Q4_Q1', 'Total_Trans_Amt',\n",
              "       'Total_Trans_Ct', 'Total_Ct_Chng_Q4_Q1', 'Avg_Utilization_Ratio',\n",
              "       'Naive_Bayes_Classifier_Attrition_Flag_Card_Category_Contacts_Count_12_mon_Dependent_count_Education_Level_Months_Inactive_12_mon_1',\n",
              "       'Naive_Bayes_Classifier_Attrition_Flag_Card_Category_Contacts_Count_12_mon_Dependent_count_Education_Level_Months_Inactive_12_mon_2'],\n",
              "      dtype='object')"
            ]
          },
          "metadata": {},
          "execution_count": 13
        }
      ]
    },
    {
      "cell_type": "code",
      "source": [
        "# Checking for duplicated values\n",
        "df.duplicated().sum()"
      ],
      "metadata": {
        "colab": {
          "base_uri": "https://localhost:8080/"
        },
        "id": "rOYJgqJ5MFZw",
        "outputId": "8e295630-7dca-4be2-9a79-0b3adead32f5"
      },
      "execution_count": 14,
      "outputs": [
        {
          "output_type": "execute_result",
          "data": {
            "text/plain": [
              "0"
            ]
          },
          "metadata": {},
          "execution_count": 14
        }
      ]
    },
    {
      "cell_type": "markdown",
      "source": [
        "- Data doesn't contain any duplicated values"
      ],
      "metadata": {
        "id": "8FfDGIfvPYuM"
      }
    },
    {
      "cell_type": "code",
      "source": [
        "# Checking count for the number of unique values in each column of the data\n",
        "df.nunique()"
      ],
      "metadata": {
        "colab": {
          "base_uri": "https://localhost:8080/"
        },
        "id": "8713_xgnMKE9",
        "outputId": "f4f2436c-63c3-4328-ef3f-fbd1b77432e4"
      },
      "execution_count": 15,
      "outputs": [
        {
          "output_type": "execute_result",
          "data": {
            "text/plain": [
              "CLIENTNUM                                                                                                                             10127\n",
              "Attrition_Flag                                                                                                                            2\n",
              "Customer_Age                                                                                                                             45\n",
              "Gender                                                                                                                                    2\n",
              "Dependent_count                                                                                                                           6\n",
              "Education_Level                                                                                                                           7\n",
              "Marital_Status                                                                                                                            4\n",
              "Income_Category                                                                                                                           6\n",
              "Card_Category                                                                                                                             4\n",
              "Months_on_book                                                                                                                           44\n",
              "Total_Relationship_Count                                                                                                                  6\n",
              "Months_Inactive_12_mon                                                                                                                    7\n",
              "Contacts_Count_12_mon                                                                                                                     7\n",
              "Credit_Limit                                                                                                                           6205\n",
              "Total_Revolving_Bal                                                                                                                    1974\n",
              "Avg_Open_To_Buy                                                                                                                        6813\n",
              "Total_Amt_Chng_Q4_Q1                                                                                                                   1158\n",
              "Total_Trans_Amt                                                                                                                        5033\n",
              "Total_Trans_Ct                                                                                                                          126\n",
              "Total_Ct_Chng_Q4_Q1                                                                                                                     830\n",
              "Avg_Utilization_Ratio                                                                                                                   964\n",
              "Naive_Bayes_Classifier_Attrition_Flag_Card_Category_Contacts_Count_12_mon_Dependent_count_Education_Level_Months_Inactive_12_mon_1     1704\n",
              "Naive_Bayes_Classifier_Attrition_Flag_Card_Category_Contacts_Count_12_mon_Dependent_count_Education_Level_Months_Inactive_12_mon_2      640\n",
              "dtype: int64"
            ]
          },
          "metadata": {},
          "execution_count": 15
        }
      ]
    },
    {
      "cell_type": "markdown",
      "source": [
        "### **Q1. What are the data types? (Only numeric and categorical)**\n",
        "Ans 1 -\n",
        "***Datatypes -***\n",
        "   - There are 7 columns with a `float64` datatype.\n",
        "   - There are 10 columns with an `int64` datatype.\n",
        "   - There are 6 columns with an `object` datatype.\n",
        "\n",
        "  ***Number of categorical and numerical data?***\n",
        "   - Numerical Data: There are 17 numerical columns (7 `float64` and 10 `int64`).\n",
        "   - Categorical Data: There are 6 categorical columns with an `object` datatype.\n",
        "\n"
      ],
      "metadata": {
        "id": "aP9-tMzhNHvu"
      }
    },
    {
      "cell_type": "code",
      "source": [
        "# Further insights into the data\n",
        "df.info()"
      ],
      "metadata": {
        "colab": {
          "base_uri": "https://localhost:8080/"
        },
        "id": "5hAftLw8LcYN",
        "outputId": "24c7d0b0-af7c-4c38-948c-7a65efcbd2ec"
      },
      "execution_count": 9,
      "outputs": [
        {
          "output_type": "stream",
          "name": "stdout",
          "text": [
            "<class 'pandas.core.frame.DataFrame'>\n",
            "RangeIndex: 10127 entries, 0 to 10126\n",
            "Data columns (total 23 columns):\n",
            " #   Column                                                                                                                              Non-Null Count  Dtype  \n",
            "---  ------                                                                                                                              --------------  -----  \n",
            " 0   CLIENTNUM                                                                                                                           10127 non-null  int64  \n",
            " 1   Attrition_Flag                                                                                                                      10127 non-null  object \n",
            " 2   Customer_Age                                                                                                                        10127 non-null  int64  \n",
            " 3   Gender                                                                                                                              10127 non-null  object \n",
            " 4   Dependent_count                                                                                                                     10127 non-null  int64  \n",
            " 5   Education_Level                                                                                                                     10127 non-null  object \n",
            " 6   Marital_Status                                                                                                                      10127 non-null  object \n",
            " 7   Income_Category                                                                                                                     10127 non-null  object \n",
            " 8   Card_Category                                                                                                                       10127 non-null  object \n",
            " 9   Months_on_book                                                                                                                      10127 non-null  int64  \n",
            " 10  Total_Relationship_Count                                                                                                            10127 non-null  int64  \n",
            " 11  Months_Inactive_12_mon                                                                                                              10127 non-null  int64  \n",
            " 12  Contacts_Count_12_mon                                                                                                               10127 non-null  int64  \n",
            " 13  Credit_Limit                                                                                                                        10127 non-null  float64\n",
            " 14  Total_Revolving_Bal                                                                                                                 10127 non-null  int64  \n",
            " 15  Avg_Open_To_Buy                                                                                                                     10127 non-null  float64\n",
            " 16  Total_Amt_Chng_Q4_Q1                                                                                                                10127 non-null  float64\n",
            " 17  Total_Trans_Amt                                                                                                                     10127 non-null  int64  \n",
            " 18  Total_Trans_Ct                                                                                                                      10127 non-null  int64  \n",
            " 19  Total_Ct_Chng_Q4_Q1                                                                                                                 10127 non-null  float64\n",
            " 20  Avg_Utilization_Ratio                                                                                                               10127 non-null  float64\n",
            " 21  Naive_Bayes_Classifier_Attrition_Flag_Card_Category_Contacts_Count_12_mon_Dependent_count_Education_Level_Months_Inactive_12_mon_1  10127 non-null  float64\n",
            " 22  Naive_Bayes_Classifier_Attrition_Flag_Card_Category_Contacts_Count_12_mon_Dependent_count_Education_Level_Months_Inactive_12_mon_2  10127 non-null  float64\n",
            "dtypes: float64(7), int64(10), object(6)\n",
            "memory usage: 1.8+ MB\n"
          ]
        }
      ]
    },
    {
      "cell_type": "markdown",
      "source": [
        "### Q2 - Are there any missing values?\n",
        "Ans 2 - No, there are no missing values in this dataset. You have a \"Non-Null Count\" of 10127 for all columns.\n"
      ],
      "metadata": {
        "id": "jNoM5TawMqNf"
      }
    },
    {
      "cell_type": "code",
      "source": [
        "#Checking if their are any missing values\n",
        "df.isnull().sum()"
      ],
      "metadata": {
        "colab": {
          "base_uri": "https://localhost:8080/"
        },
        "id": "ub8xHBppML6c",
        "outputId": "92b347c2-45aa-4be2-ce71-70c5887f5c94"
      },
      "execution_count": 16,
      "outputs": [
        {
          "output_type": "execute_result",
          "data": {
            "text/plain": [
              "CLIENTNUM                                                                                                                             0\n",
              "Attrition_Flag                                                                                                                        0\n",
              "Customer_Age                                                                                                                          0\n",
              "Gender                                                                                                                                0\n",
              "Dependent_count                                                                                                                       0\n",
              "Education_Level                                                                                                                       0\n",
              "Marital_Status                                                                                                                        0\n",
              "Income_Category                                                                                                                       0\n",
              "Card_Category                                                                                                                         0\n",
              "Months_on_book                                                                                                                        0\n",
              "Total_Relationship_Count                                                                                                              0\n",
              "Months_Inactive_12_mon                                                                                                                0\n",
              "Contacts_Count_12_mon                                                                                                                 0\n",
              "Credit_Limit                                                                                                                          0\n",
              "Total_Revolving_Bal                                                                                                                   0\n",
              "Avg_Open_To_Buy                                                                                                                       0\n",
              "Total_Amt_Chng_Q4_Q1                                                                                                                  0\n",
              "Total_Trans_Amt                                                                                                                       0\n",
              "Total_Trans_Ct                                                                                                                        0\n",
              "Total_Ct_Chng_Q4_Q1                                                                                                                   0\n",
              "Avg_Utilization_Ratio                                                                                                                 0\n",
              "Naive_Bayes_Classifier_Attrition_Flag_Card_Category_Contacts_Count_12_mon_Dependent_count_Education_Level_Months_Inactive_12_mon_1    0\n",
              "Naive_Bayes_Classifier_Attrition_Flag_Card_Category_Contacts_Count_12_mon_Dependent_count_Education_Level_Months_Inactive_12_mon_2    0\n",
              "dtype: int64"
            ]
          },
          "metadata": {},
          "execution_count": 16
        }
      ]
    },
    {
      "cell_type": "markdown",
      "source": [
        "**Features Extraction -**\n",
        "- CLIENTNUM : Unique client identifier.\n",
        "- Attrition_Flag : Indicates whether the customer's account is active or has churned.\n",
        "- Customer_Age : Age of the customer.\n",
        "- Gender : Gender of the customer.\n",
        "- Dependent_count : Number of dependents of the customer.\n",
        "- Education_Level : Educational level of the customer.\n",
        "- Marital_Status : Marital status of the customer.\n",
        "- Income_Category : Income category of the customer.\n",
        "- Card_Category : Category of the credit card held by the customer.\n",
        "- Months_on_book : Number of months the customer has been a bank client.\n",
        "- Total_Relationship_Count : Total number of bank products held by the customer.\n",
        "- Months_Inactive_12_mon : Number of months with inactivity in the last 12 months.\n",
        "- Contacts_Count_12_mon : Number of contacts with the bank in the last 12 months.\n",
        "- Credit_Limit : Credit limit on the credit card.\n",
        "- Total_Revolving_Bal : Total revolving balance on the credit card.\n",
        "- Avg_Open_To_Buy : Average open to buy credit line on the credit card.\n",
        "- Total_Amt_Chng_Q4_Q1 : Change in transaction amount over the last four quarters.\n",
        "- Total_Trans_Amt : Total transaction amount in the last 12 months.\n",
        "- Total_Trans_Ct : Total transaction count in the last 12 months.\n",
        "- Total_Ct_Chng_Q4_Q1 : Change in transaction count over the last four quarters.\n",
        "- Avg_Utilization_Ratio : Average utilization ratio of the credit card."
      ],
      "metadata": {
        "id": "2y2NLUUhPGCT"
      }
    },
    {
      "cell_type": "code",
      "source": [
        "# Dropping columns with unusual names\n",
        "df = df.drop(['Naive_Bayes_Classifier_Attrition_Flag_Card_Category_Contacts_Count_12_mon_Dependent_count_Education_Level_Months_Inactive_12_mon_1',\n",
        "             'Naive_Bayes_Classifier_Attrition_Flag_Card_Category_Contacts_Count_12_mon_Dependent_count_Education_Level_Months_Inactive_12_mon_2'], axis=1)\n",
        "\n",
        "#Dropping CLIENTNUM column as it's a unique identifier and not useful for predictions.\n",
        "df = df.drop( 'CLIENTNUM', axis=1)"
      ],
      "metadata": {
        "id": "qIPvMSF5O6Sg"
      },
      "execution_count": 18,
      "outputs": []
    },
    {
      "cell_type": "code",
      "source": [
        "#Shape of data after non-useful columns dropped for the dataset\n",
        "df.shape"
      ],
      "metadata": {
        "colab": {
          "base_uri": "https://localhost:8080/"
        },
        "id": "m7HF7FCgPlBP",
        "outputId": "17dd641f-1c19-4b13-fc28-1bbc518813cc"
      },
      "execution_count": 21,
      "outputs": [
        {
          "output_type": "execute_result",
          "data": {
            "text/plain": [
              "(10127, 20)"
            ]
          },
          "metadata": {},
          "execution_count": 21
        }
      ]
    },
    {
      "cell_type": "code",
      "source": [
        "# Gaining insights into new dataframe created\n",
        "df.describe()"
      ],
      "metadata": {
        "colab": {
          "base_uri": "https://localhost:8080/",
          "height": 0
        },
        "id": "19xm3nHvPmsp",
        "outputId": "d6b856bc-9c55-4844-82c1-781a436b538e"
      },
      "execution_count": 23,
      "outputs": [
        {
          "output_type": "execute_result",
          "data": {
            "text/plain": [
              "       Customer_Age  Dependent_count  Months_on_book  \\\n",
              "count  10127.000000     10127.000000    10127.000000   \n",
              "mean      46.325960         2.346203       35.928409   \n",
              "std        8.016814         1.298908        7.986416   \n",
              "min       26.000000         0.000000       13.000000   \n",
              "25%       41.000000         1.000000       31.000000   \n",
              "50%       46.000000         2.000000       36.000000   \n",
              "75%       52.000000         3.000000       40.000000   \n",
              "max       73.000000         5.000000       56.000000   \n",
              "\n",
              "       Total_Relationship_Count  Months_Inactive_12_mon  \\\n",
              "count              10127.000000            10127.000000   \n",
              "mean                   3.812580                2.341167   \n",
              "std                    1.554408                1.010622   \n",
              "min                    1.000000                0.000000   \n",
              "25%                    3.000000                2.000000   \n",
              "50%                    4.000000                2.000000   \n",
              "75%                    5.000000                3.000000   \n",
              "max                    6.000000                6.000000   \n",
              "\n",
              "       Contacts_Count_12_mon  Credit_Limit  Total_Revolving_Bal  \\\n",
              "count           10127.000000  10127.000000         10127.000000   \n",
              "mean                2.455317   8631.953698          1162.814061   \n",
              "std                 1.106225   9088.776650           814.987335   \n",
              "min                 0.000000   1438.300000             0.000000   \n",
              "25%                 2.000000   2555.000000           359.000000   \n",
              "50%                 2.000000   4549.000000          1276.000000   \n",
              "75%                 3.000000  11067.500000          1784.000000   \n",
              "max                 6.000000  34516.000000          2517.000000   \n",
              "\n",
              "       Avg_Open_To_Buy  Total_Amt_Chng_Q4_Q1  Total_Trans_Amt  Total_Trans_Ct  \\\n",
              "count     10127.000000          10127.000000     10127.000000    10127.000000   \n",
              "mean       7469.139637              0.759941      4404.086304       64.858695   \n",
              "std        9090.685324              0.219207      3397.129254       23.472570   \n",
              "min           3.000000              0.000000       510.000000       10.000000   \n",
              "25%        1324.500000              0.631000      2155.500000       45.000000   \n",
              "50%        3474.000000              0.736000      3899.000000       67.000000   \n",
              "75%        9859.000000              0.859000      4741.000000       81.000000   \n",
              "max       34516.000000              3.397000     18484.000000      139.000000   \n",
              "\n",
              "       Total_Ct_Chng_Q4_Q1  Avg_Utilization_Ratio  \n",
              "count         10127.000000           10127.000000  \n",
              "mean              0.712222               0.274894  \n",
              "std               0.238086               0.275691  \n",
              "min               0.000000               0.000000  \n",
              "25%               0.582000               0.023000  \n",
              "50%               0.702000               0.176000  \n",
              "75%               0.818000               0.503000  \n",
              "max               3.714000               0.999000  "
            ],
            "text/html": [
              "\n",
              "  <div id=\"df-4cb436bd-8178-4dc1-9966-bd27cdf1ce5a\" class=\"colab-df-container\">\n",
              "    <div>\n",
              "<style scoped>\n",
              "    .dataframe tbody tr th:only-of-type {\n",
              "        vertical-align: middle;\n",
              "    }\n",
              "\n",
              "    .dataframe tbody tr th {\n",
              "        vertical-align: top;\n",
              "    }\n",
              "\n",
              "    .dataframe thead th {\n",
              "        text-align: right;\n",
              "    }\n",
              "</style>\n",
              "<table border=\"1\" class=\"dataframe\">\n",
              "  <thead>\n",
              "    <tr style=\"text-align: right;\">\n",
              "      <th></th>\n",
              "      <th>Customer_Age</th>\n",
              "      <th>Dependent_count</th>\n",
              "      <th>Months_on_book</th>\n",
              "      <th>Total_Relationship_Count</th>\n",
              "      <th>Months_Inactive_12_mon</th>\n",
              "      <th>Contacts_Count_12_mon</th>\n",
              "      <th>Credit_Limit</th>\n",
              "      <th>Total_Revolving_Bal</th>\n",
              "      <th>Avg_Open_To_Buy</th>\n",
              "      <th>Total_Amt_Chng_Q4_Q1</th>\n",
              "      <th>Total_Trans_Amt</th>\n",
              "      <th>Total_Trans_Ct</th>\n",
              "      <th>Total_Ct_Chng_Q4_Q1</th>\n",
              "      <th>Avg_Utilization_Ratio</th>\n",
              "    </tr>\n",
              "  </thead>\n",
              "  <tbody>\n",
              "    <tr>\n",
              "      <th>count</th>\n",
              "      <td>10127.000000</td>\n",
              "      <td>10127.000000</td>\n",
              "      <td>10127.000000</td>\n",
              "      <td>10127.000000</td>\n",
              "      <td>10127.000000</td>\n",
              "      <td>10127.000000</td>\n",
              "      <td>10127.000000</td>\n",
              "      <td>10127.000000</td>\n",
              "      <td>10127.000000</td>\n",
              "      <td>10127.000000</td>\n",
              "      <td>10127.000000</td>\n",
              "      <td>10127.000000</td>\n",
              "      <td>10127.000000</td>\n",
              "      <td>10127.000000</td>\n",
              "    </tr>\n",
              "    <tr>\n",
              "      <th>mean</th>\n",
              "      <td>46.325960</td>\n",
              "      <td>2.346203</td>\n",
              "      <td>35.928409</td>\n",
              "      <td>3.812580</td>\n",
              "      <td>2.341167</td>\n",
              "      <td>2.455317</td>\n",
              "      <td>8631.953698</td>\n",
              "      <td>1162.814061</td>\n",
              "      <td>7469.139637</td>\n",
              "      <td>0.759941</td>\n",
              "      <td>4404.086304</td>\n",
              "      <td>64.858695</td>\n",
              "      <td>0.712222</td>\n",
              "      <td>0.274894</td>\n",
              "    </tr>\n",
              "    <tr>\n",
              "      <th>std</th>\n",
              "      <td>8.016814</td>\n",
              "      <td>1.298908</td>\n",
              "      <td>7.986416</td>\n",
              "      <td>1.554408</td>\n",
              "      <td>1.010622</td>\n",
              "      <td>1.106225</td>\n",
              "      <td>9088.776650</td>\n",
              "      <td>814.987335</td>\n",
              "      <td>9090.685324</td>\n",
              "      <td>0.219207</td>\n",
              "      <td>3397.129254</td>\n",
              "      <td>23.472570</td>\n",
              "      <td>0.238086</td>\n",
              "      <td>0.275691</td>\n",
              "    </tr>\n",
              "    <tr>\n",
              "      <th>min</th>\n",
              "      <td>26.000000</td>\n",
              "      <td>0.000000</td>\n",
              "      <td>13.000000</td>\n",
              "      <td>1.000000</td>\n",
              "      <td>0.000000</td>\n",
              "      <td>0.000000</td>\n",
              "      <td>1438.300000</td>\n",
              "      <td>0.000000</td>\n",
              "      <td>3.000000</td>\n",
              "      <td>0.000000</td>\n",
              "      <td>510.000000</td>\n",
              "      <td>10.000000</td>\n",
              "      <td>0.000000</td>\n",
              "      <td>0.000000</td>\n",
              "    </tr>\n",
              "    <tr>\n",
              "      <th>25%</th>\n",
              "      <td>41.000000</td>\n",
              "      <td>1.000000</td>\n",
              "      <td>31.000000</td>\n",
              "      <td>3.000000</td>\n",
              "      <td>2.000000</td>\n",
              "      <td>2.000000</td>\n",
              "      <td>2555.000000</td>\n",
              "      <td>359.000000</td>\n",
              "      <td>1324.500000</td>\n",
              "      <td>0.631000</td>\n",
              "      <td>2155.500000</td>\n",
              "      <td>45.000000</td>\n",
              "      <td>0.582000</td>\n",
              "      <td>0.023000</td>\n",
              "    </tr>\n",
              "    <tr>\n",
              "      <th>50%</th>\n",
              "      <td>46.000000</td>\n",
              "      <td>2.000000</td>\n",
              "      <td>36.000000</td>\n",
              "      <td>4.000000</td>\n",
              "      <td>2.000000</td>\n",
              "      <td>2.000000</td>\n",
              "      <td>4549.000000</td>\n",
              "      <td>1276.000000</td>\n",
              "      <td>3474.000000</td>\n",
              "      <td>0.736000</td>\n",
              "      <td>3899.000000</td>\n",
              "      <td>67.000000</td>\n",
              "      <td>0.702000</td>\n",
              "      <td>0.176000</td>\n",
              "    </tr>\n",
              "    <tr>\n",
              "      <th>75%</th>\n",
              "      <td>52.000000</td>\n",
              "      <td>3.000000</td>\n",
              "      <td>40.000000</td>\n",
              "      <td>5.000000</td>\n",
              "      <td>3.000000</td>\n",
              "      <td>3.000000</td>\n",
              "      <td>11067.500000</td>\n",
              "      <td>1784.000000</td>\n",
              "      <td>9859.000000</td>\n",
              "      <td>0.859000</td>\n",
              "      <td>4741.000000</td>\n",
              "      <td>81.000000</td>\n",
              "      <td>0.818000</td>\n",
              "      <td>0.503000</td>\n",
              "    </tr>\n",
              "    <tr>\n",
              "      <th>max</th>\n",
              "      <td>73.000000</td>\n",
              "      <td>5.000000</td>\n",
              "      <td>56.000000</td>\n",
              "      <td>6.000000</td>\n",
              "      <td>6.000000</td>\n",
              "      <td>6.000000</td>\n",
              "      <td>34516.000000</td>\n",
              "      <td>2517.000000</td>\n",
              "      <td>34516.000000</td>\n",
              "      <td>3.397000</td>\n",
              "      <td>18484.000000</td>\n",
              "      <td>139.000000</td>\n",
              "      <td>3.714000</td>\n",
              "      <td>0.999000</td>\n",
              "    </tr>\n",
              "  </tbody>\n",
              "</table>\n",
              "</div>\n",
              "    <div class=\"colab-df-buttons\">\n",
              "\n",
              "  <div class=\"colab-df-container\">\n",
              "    <button class=\"colab-df-convert\" onclick=\"convertToInteractive('df-4cb436bd-8178-4dc1-9966-bd27cdf1ce5a')\"\n",
              "            title=\"Convert this dataframe to an interactive table.\"\n",
              "            style=\"display:none;\">\n",
              "\n",
              "  <svg xmlns=\"http://www.w3.org/2000/svg\" height=\"24px\" viewBox=\"0 -960 960 960\">\n",
              "    <path d=\"M120-120v-720h720v720H120Zm60-500h600v-160H180v160Zm220 220h160v-160H400v160Zm0 220h160v-160H400v160ZM180-400h160v-160H180v160Zm440 0h160v-160H620v160ZM180-180h160v-160H180v160Zm440 0h160v-160H620v160Z\"/>\n",
              "  </svg>\n",
              "    </button>\n",
              "\n",
              "  <style>\n",
              "    .colab-df-container {\n",
              "      display:flex;\n",
              "      gap: 12px;\n",
              "    }\n",
              "\n",
              "    .colab-df-convert {\n",
              "      background-color: #E8F0FE;\n",
              "      border: none;\n",
              "      border-radius: 50%;\n",
              "      cursor: pointer;\n",
              "      display: none;\n",
              "      fill: #1967D2;\n",
              "      height: 32px;\n",
              "      padding: 0 0 0 0;\n",
              "      width: 32px;\n",
              "    }\n",
              "\n",
              "    .colab-df-convert:hover {\n",
              "      background-color: #E2EBFA;\n",
              "      box-shadow: 0px 1px 2px rgba(60, 64, 67, 0.3), 0px 1px 3px 1px rgba(60, 64, 67, 0.15);\n",
              "      fill: #174EA6;\n",
              "    }\n",
              "\n",
              "    .colab-df-buttons div {\n",
              "      margin-bottom: 4px;\n",
              "    }\n",
              "\n",
              "    [theme=dark] .colab-df-convert {\n",
              "      background-color: #3B4455;\n",
              "      fill: #D2E3FC;\n",
              "    }\n",
              "\n",
              "    [theme=dark] .colab-df-convert:hover {\n",
              "      background-color: #434B5C;\n",
              "      box-shadow: 0px 1px 3px 1px rgba(0, 0, 0, 0.15);\n",
              "      filter: drop-shadow(0px 1px 2px rgba(0, 0, 0, 0.3));\n",
              "      fill: #FFFFFF;\n",
              "    }\n",
              "  </style>\n",
              "\n",
              "    <script>\n",
              "      const buttonEl =\n",
              "        document.querySelector('#df-4cb436bd-8178-4dc1-9966-bd27cdf1ce5a button.colab-df-convert');\n",
              "      buttonEl.style.display =\n",
              "        google.colab.kernel.accessAllowed ? 'block' : 'none';\n",
              "\n",
              "      async function convertToInteractive(key) {\n",
              "        const element = document.querySelector('#df-4cb436bd-8178-4dc1-9966-bd27cdf1ce5a');\n",
              "        const dataTable =\n",
              "          await google.colab.kernel.invokeFunction('convertToInteractive',\n",
              "                                                    [key], {});\n",
              "        if (!dataTable) return;\n",
              "\n",
              "        const docLinkHtml = 'Like what you see? Visit the ' +\n",
              "          '<a target=\"_blank\" href=https://colab.research.google.com/notebooks/data_table.ipynb>data table notebook</a>'\n",
              "          + ' to learn more about interactive tables.';\n",
              "        element.innerHTML = '';\n",
              "        dataTable['output_type'] = 'display_data';\n",
              "        await google.colab.output.renderOutput(dataTable, element);\n",
              "        const docLink = document.createElement('div');\n",
              "        docLink.innerHTML = docLinkHtml;\n",
              "        element.appendChild(docLink);\n",
              "      }\n",
              "    </script>\n",
              "  </div>\n",
              "\n",
              "\n",
              "<div id=\"df-15e4847e-1df0-4356-b6df-fb56bd16b5b5\">\n",
              "  <button class=\"colab-df-quickchart\" onclick=\"quickchart('df-15e4847e-1df0-4356-b6df-fb56bd16b5b5')\"\n",
              "            title=\"Suggest charts\"\n",
              "            style=\"display:none;\">\n",
              "\n",
              "<svg xmlns=\"http://www.w3.org/2000/svg\" height=\"24px\"viewBox=\"0 0 24 24\"\n",
              "     width=\"24px\">\n",
              "    <g>\n",
              "        <path d=\"M19 3H5c-1.1 0-2 .9-2 2v14c0 1.1.9 2 2 2h14c1.1 0 2-.9 2-2V5c0-1.1-.9-2-2-2zM9 17H7v-7h2v7zm4 0h-2V7h2v10zm4 0h-2v-4h2v4z\"/>\n",
              "    </g>\n",
              "</svg>\n",
              "  </button>\n",
              "\n",
              "<style>\n",
              "  .colab-df-quickchart {\n",
              "      --bg-color: #E8F0FE;\n",
              "      --fill-color: #1967D2;\n",
              "      --hover-bg-color: #E2EBFA;\n",
              "      --hover-fill-color: #174EA6;\n",
              "      --disabled-fill-color: #AAA;\n",
              "      --disabled-bg-color: #DDD;\n",
              "  }\n",
              "\n",
              "  [theme=dark] .colab-df-quickchart {\n",
              "      --bg-color: #3B4455;\n",
              "      --fill-color: #D2E3FC;\n",
              "      --hover-bg-color: #434B5C;\n",
              "      --hover-fill-color: #FFFFFF;\n",
              "      --disabled-bg-color: #3B4455;\n",
              "      --disabled-fill-color: #666;\n",
              "  }\n",
              "\n",
              "  .colab-df-quickchart {\n",
              "    background-color: var(--bg-color);\n",
              "    border: none;\n",
              "    border-radius: 50%;\n",
              "    cursor: pointer;\n",
              "    display: none;\n",
              "    fill: var(--fill-color);\n",
              "    height: 32px;\n",
              "    padding: 0;\n",
              "    width: 32px;\n",
              "  }\n",
              "\n",
              "  .colab-df-quickchart:hover {\n",
              "    background-color: var(--hover-bg-color);\n",
              "    box-shadow: 0 1px 2px rgba(60, 64, 67, 0.3), 0 1px 3px 1px rgba(60, 64, 67, 0.15);\n",
              "    fill: var(--button-hover-fill-color);\n",
              "  }\n",
              "\n",
              "  .colab-df-quickchart-complete:disabled,\n",
              "  .colab-df-quickchart-complete:disabled:hover {\n",
              "    background-color: var(--disabled-bg-color);\n",
              "    fill: var(--disabled-fill-color);\n",
              "    box-shadow: none;\n",
              "  }\n",
              "\n",
              "  .colab-df-spinner {\n",
              "    border: 2px solid var(--fill-color);\n",
              "    border-color: transparent;\n",
              "    border-bottom-color: var(--fill-color);\n",
              "    animation:\n",
              "      spin 1s steps(1) infinite;\n",
              "  }\n",
              "\n",
              "  @keyframes spin {\n",
              "    0% {\n",
              "      border-color: transparent;\n",
              "      border-bottom-color: var(--fill-color);\n",
              "      border-left-color: var(--fill-color);\n",
              "    }\n",
              "    20% {\n",
              "      border-color: transparent;\n",
              "      border-left-color: var(--fill-color);\n",
              "      border-top-color: var(--fill-color);\n",
              "    }\n",
              "    30% {\n",
              "      border-color: transparent;\n",
              "      border-left-color: var(--fill-color);\n",
              "      border-top-color: var(--fill-color);\n",
              "      border-right-color: var(--fill-color);\n",
              "    }\n",
              "    40% {\n",
              "      border-color: transparent;\n",
              "      border-right-color: var(--fill-color);\n",
              "      border-top-color: var(--fill-color);\n",
              "    }\n",
              "    60% {\n",
              "      border-color: transparent;\n",
              "      border-right-color: var(--fill-color);\n",
              "    }\n",
              "    80% {\n",
              "      border-color: transparent;\n",
              "      border-right-color: var(--fill-color);\n",
              "      border-bottom-color: var(--fill-color);\n",
              "    }\n",
              "    90% {\n",
              "      border-color: transparent;\n",
              "      border-bottom-color: var(--fill-color);\n",
              "    }\n",
              "  }\n",
              "</style>\n",
              "\n",
              "  <script>\n",
              "    async function quickchart(key) {\n",
              "      const quickchartButtonEl =\n",
              "        document.querySelector('#' + key + ' button');\n",
              "      quickchartButtonEl.disabled = true;  // To prevent multiple clicks.\n",
              "      quickchartButtonEl.classList.add('colab-df-spinner');\n",
              "      try {\n",
              "        const charts = await google.colab.kernel.invokeFunction(\n",
              "            'suggestCharts', [key], {});\n",
              "      } catch (error) {\n",
              "        console.error('Error during call to suggestCharts:', error);\n",
              "      }\n",
              "      quickchartButtonEl.classList.remove('colab-df-spinner');\n",
              "      quickchartButtonEl.classList.add('colab-df-quickchart-complete');\n",
              "    }\n",
              "    (() => {\n",
              "      let quickchartButtonEl =\n",
              "        document.querySelector('#df-15e4847e-1df0-4356-b6df-fb56bd16b5b5 button');\n",
              "      quickchartButtonEl.style.display =\n",
              "        google.colab.kernel.accessAllowed ? 'block' : 'none';\n",
              "    })();\n",
              "  </script>\n",
              "</div>\n",
              "\n",
              "    </div>\n",
              "  </div>\n"
            ]
          },
          "metadata": {},
          "execution_count": 23
        }
      ]
    },
    {
      "cell_type": "markdown",
      "source": [
        "### **Q3. Likely distributions of the numeric variables:**\n",
        "- Density curves Plotting density curves for numeric variables. A density plot is a smoothed, continuous version of a histogram estimated from the data.\n",
        "\n",
        "1. x-axis: Variable\n",
        "2. y-axis: Density (frequency with respect to number of instances)"
      ],
      "metadata": {
        "id": "ggiDN2Y9QMuI"
      }
    },
    {
      "cell_type": "code",
      "source": [
        "numeric_columns = ['Customer_Age', 'Credit_Limit', 'Avg_Open_To_Buy', 'Total_Trans_Amt', 'Total_Revolving_Bal','Avg_Utilization_Ratio',  'Total_Trans_Ct']\n",
        "\n",
        "def distribution(df,list):\n",
        "    sns.histplot(df[list])\n",
        "    plt.show()\n",
        "\n",
        "for i in numeric_columns:\n",
        "    #plt.grid(True)\n",
        "    distribution(df,i)\n",
        "    plt.show()"
      ],
      "metadata": {
        "colab": {
          "base_uri": "https://localhost:8080/",
          "height": 1000
        },
        "id": "kYZ5kabQP9Ld",
        "outputId": "6e17cce3-4a4c-4d1d-ebfd-e5aa6893dd7f"
      },
      "execution_count": 25,
      "outputs": [
        {
          "output_type": "display_data",
          "data": {
            "text/plain": [
              "<Figure size 640x480 with 1 Axes>"
            ],
            "image/png": "[encoded data removed]"
          },
          "metadata": {}
        },
        {
          "output_type": "display_data",
          "data": {
            "text/plain": [
              "<Figure size 640x480 with 1 Axes>"
            ],
            "image/png": "[encoded data removed]"
          },
          "metadata": {}
        },
        {
          "output_type": "display_data",
          "data": {
            "text/plain": [
              "<Figure size 640x480 with 1 Axes>"
            ],
            "image/png": "[encoded data removed]"
          },
          "metadata": {}
        },
        {
          "output_type": "display_data",
          "data": {
            "text/plain": [
              "<Figure size 640x480 with 1 Axes>"
            ],
            "image/png": "[encoded data removed]"
          },
          "metadata": {}
        },
        {
          "output_type": "display_data",
          "data": {
            "text/plain": [
              "<Figure size 640x480 with 1 Axes>"
            ],
            "image/png": "[encoded data removed]"
          },
          "metadata": {}
        },
        {
          "output_type": "display_data",
          "data": {
            "text/plain": [
              "<Figure size 640x480 with 1 Axes>"
            ],
            "image/png": "[encoded data removed]"
          },
          "metadata": {}
        },
        {
          "output_type": "display_data",
          "data": {
            "text/plain": [
              "<Figure size 640x480 with 1 Axes>"
            ],
            "image/png": "[encoded data removed]"
          },
          "metadata": {}
        }
      ]
    },
    {
      "cell_type": "markdown",
      "source": [
        "# **Data Preprocessing**"
      ],
      "metadata": {
        "id": "dD-rZkIrSVjK"
      }
    },
    {
      "cell_type": "code",
      "source": [
        "# Encoding categorical data to numerical value.\n",
        "\n",
        "categorical_features = [\n",
        "    'Attrition_Flag', 'Gender', 'Education_Level', 'Marital_Status',\n",
        "    'Income_Category', 'Card_Category'\n",
        "]\n",
        "\n",
        "# Initialize LabelEncoder\n",
        "label_encoder = LabelEncoder()\n",
        "\n",
        "# Apply label encoding to each categorical feature\n",
        "for feature in categorical_features:\n",
        "    df[feature] = label_encoder.fit_transform(df[feature])\n",
        "\n",
        "# Now, the categorical features are label encoded in the DataFrame"
      ],
      "metadata": {
        "id": "ZWdnnkMcQqaE"
      },
      "execution_count": 28,
      "outputs": []
    },
    {
      "cell_type": "markdown",
      "source": [
        "### **Q4. Which independent variables are useful to predict a target (dependent variable)? (Use at least three methods)**\n",
        "\n",
        "- OLS Regression\n",
        "- HeatMap\n",
        "- Random Forest Classifier\n",
        "- Univariate Feature Selection"
      ],
      "metadata": {
        "id": "r7pwKIC5TBu8"
      }
    },
    {
      "cell_type": "code",
      "source": [
        "#OLS Regression method.\n",
        "var = sm.OLS(df['Attrition_Flag'], df[['Customer_Age', 'Dependent_count', 'Months_on_book',\n",
        "    'Total_Relationship_Count', 'Months_Inactive_12_mon',\n",
        "    'Contacts_Count_12_mon', 'Credit_Limit', 'Total_Revolving_Bal',\n",
        "    'Avg_Open_To_Buy', 'Total_Amt_Chng_Q4_Q1', 'Total_Trans_Amt',\n",
        "    'Total_Trans_Ct', 'Total_Ct_Chng_Q4_Q1', 'Avg_Utilization_Ratio']]).fit()\n",
        "\n",
        "var.summary()"
      ],
      "metadata": {
        "colab": {
          "base_uri": "https://localhost:8080/",
          "height": 760
        },
        "id": "lOCwqAlRUWfN",
        "outputId": "f91dd483-3ba9-4343-c34a-84898ec47acf"
      },
      "execution_count": 155,
      "outputs": [
        {
          "output_type": "execute_result",
          "data": {
            "text/plain": [
              "<class 'statsmodels.iolib.summary.Summary'>\n",
              "\"\"\"\n",
              "                                 OLS Regression Results                                \n",
              "=======================================================================================\n",
              "Dep. Variable:         Attrition_Flag   R-squared (uncentered):                   0.898\n",
              "Model:                            OLS   Adj. R-squared (uncentered):              0.898\n",
              "Method:                 Least Squares   F-statistic:                              6835.\n",
              "Date:                Tue, 30 Jan 2024   Prob (F-statistic):                        0.00\n",
              "Time:                        04:45:46   Log-Likelihood:                         -1933.5\n",
              "No. Observations:               10127   AIC:                                      3893.\n",
              "Df Residuals:                   10114   BIC:                                      3987.\n",
              "Df Model:                          13                                                  \n",
              "Covariance Type:            nonrobust                                                  \n",
              "============================================================================================\n",
              "                               coef    std err          t      P>|t|      [0.025      0.975]\n",
              "--------------------------------------------------------------------------------------------\n",
              "Customer_Age                 0.0004      0.001      0.739      0.460      -0.001       0.001\n",
              "Dependent_count             -0.0114      0.002     -5.231      0.000      -0.016      -0.007\n",
              "Months_on_book               0.0004      0.001      0.659      0.510      -0.001       0.002\n",
              "Total_Relationship_Count     0.0437      0.002     22.610      0.000       0.040       0.048\n",
              "Months_Inactive_12_mon      -0.0416      0.003    -14.783      0.000      -0.047      -0.036\n",
              "Contacts_Count_12_mon       -0.0408      0.003    -16.032      0.000      -0.046      -0.036\n",
              "Credit_Limit              3.362e-05   1.66e-06     20.295      0.000    3.04e-05    3.69e-05\n",
              "Total_Revolving_Bal       6.573e-05   3.49e-06     18.847      0.000    5.89e-05    7.26e-05\n",
              "Avg_Open_To_Buy           -3.21e-05   1.85e-06    -17.346      0.000   -3.57e-05   -2.85e-05\n",
              "Total_Amt_Chng_Q4_Q1         0.0663      0.014      4.825      0.000       0.039       0.093\n",
              "Total_Trans_Amt          -3.493e-05   1.54e-06    -22.700      0.000   -3.79e-05   -3.19e-05\n",
              "Total_Trans_Ct               0.0097      0.000     47.819      0.000       0.009       0.010\n",
              "Total_Ct_Chng_Q4_Q1          0.2973      0.013     22.311      0.000       0.271       0.323\n",
              "Avg_Utilization_Ratio       -0.0055      0.018     -0.306      0.760      -0.041       0.030\n",
              "==============================================================================\n",
              "Omnibus:                     1230.913   Durbin-Watson:                   1.720\n",
              "Prob(Omnibus):                  0.000   Jarque-Bera (JB):             1755.028\n",
              "Skew:                          -0.936   Prob(JB):                         0.00\n",
              "Kurtosis:                       3.811   Cond. No.                     7.13e+15\n",
              "==============================================================================\n",
              "\n",
              "Notes:\n",
              "[1] R² is computed without centering (uncentered) since the model does not contain a constant.\n",
              "[2] Standard Errors assume that the covariance matrix of the errors is correctly specified.\n",
              "[3] The smallest eigenvalue is 6.13e-20. This might indicate that there are\n",
              "strong multicollinearity problems or that the design matrix is singular.\n",
              "\"\"\""
            ],
            "text/html": [
              "<table class=\"simpletable\">\n",
              "<caption>OLS Regression Results</caption>\n",
              "<tr>\n",
              "  <th>Dep. Variable:</th>     <td>Attrition_Flag</td>  <th>  R-squared (uncentered):</th>      <td>   0.898</td>\n",
              "</tr>\n",
              "<tr>\n",
              "  <th>Model:</th>                   <td>OLS</td>       <th>  Adj. R-squared (uncentered):</th> <td>   0.898</td>\n",
              "</tr>\n",
              "<tr>\n",
              "  <th>Method:</th>             <td>Least Squares</td>  <th>  F-statistic:       </th>          <td>   6835.</td>\n",
              "</tr>\n",
              "<tr>\n",
              "  <th>Date:</th>             <td>Tue, 30 Jan 2024</td> <th>  Prob (F-statistic):</th>           <td>  0.00</td> \n",
              "</tr>\n",
              "<tr>\n",
              "  <th>Time:</th>                 <td>04:45:46</td>     <th>  Log-Likelihood:    </th>          <td> -1933.5</td>\n",
              "</tr>\n",
              "<tr>\n",
              "  <th>No. Observations:</th>      <td> 10127</td>      <th>  AIC:               </th>          <td>   3893.</td>\n",
              "</tr>\n",
              "<tr>\n",
              "  <th>Df Residuals:</th>          <td> 10114</td>      <th>  BIC:               </th>          <td>   3987.</td>\n",
              "</tr>\n",
              "<tr>\n",
              "  <th>Df Model:</th>              <td>    13</td>      <th>                     </th>              <td> </td>   \n",
              "</tr>\n",
              "<tr>\n",
              "  <th>Covariance Type:</th>      <td>nonrobust</td>    <th>                     </th>              <td> </td>   \n",
              "</tr>\n",
              "</table>\n",
              "<table class=\"simpletable\">\n",
              "<tr>\n",
              "              <td></td>                <th>coef</th>     <th>std err</th>      <th>t</th>      <th>P>|t|</th>  <th>[0.025</th>    <th>0.975]</th>  \n",
              "</tr>\n",
              "<tr>\n",
              "  <th>Customer_Age</th>             <td>    0.0004</td> <td>    0.001</td> <td>    0.739</td> <td> 0.460</td> <td>   -0.001</td> <td>    0.001</td>\n",
              "</tr>\n",
              "<tr>\n",
              "  <th>Dependent_count</th>          <td>   -0.0114</td> <td>    0.002</td> <td>   -5.231</td> <td> 0.000</td> <td>   -0.016</td> <td>   -0.007</td>\n",
              "</tr>\n",
              "<tr>\n",
              "  <th>Months_on_book</th>           <td>    0.0004</td> <td>    0.001</td> <td>    0.659</td> <td> 0.510</td> <td>   -0.001</td> <td>    0.002</td>\n",
              "</tr>\n",
              "<tr>\n",
              "  <th>Total_Relationship_Count</th> <td>    0.0437</td> <td>    0.002</td> <td>   22.610</td> <td> 0.000</td> <td>    0.040</td> <td>    0.048</td>\n",
              "</tr>\n",
              "<tr>\n",
              "  <th>Months_Inactive_12_mon</th>   <td>   -0.0416</td> <td>    0.003</td> <td>  -14.783</td> <td> 0.000</td> <td>   -0.047</td> <td>   -0.036</td>\n",
              "</tr>\n",
              "<tr>\n",
              "  <th>Contacts_Count_12_mon</th>    <td>   -0.0408</td> <td>    0.003</td> <td>  -16.032</td> <td> 0.000</td> <td>   -0.046</td> <td>   -0.036</td>\n",
              "</tr>\n",
              "<tr>\n",
              "  <th>Credit_Limit</th>             <td> 3.362e-05</td> <td> 1.66e-06</td> <td>   20.295</td> <td> 0.000</td> <td> 3.04e-05</td> <td> 3.69e-05</td>\n",
              "</tr>\n",
              "<tr>\n",
              "  <th>Total_Revolving_Bal</th>      <td> 6.573e-05</td> <td> 3.49e-06</td> <td>   18.847</td> <td> 0.000</td> <td> 5.89e-05</td> <td> 7.26e-05</td>\n",
              "</tr>\n",
              "<tr>\n",
              "  <th>Avg_Open_To_Buy</th>          <td> -3.21e-05</td> <td> 1.85e-06</td> <td>  -17.346</td> <td> 0.000</td> <td>-3.57e-05</td> <td>-2.85e-05</td>\n",
              "</tr>\n",
              "<tr>\n",
              "  <th>Total_Amt_Chng_Q4_Q1</th>     <td>    0.0663</td> <td>    0.014</td> <td>    4.825</td> <td> 0.000</td> <td>    0.039</td> <td>    0.093</td>\n",
              "</tr>\n",
              "<tr>\n",
              "  <th>Total_Trans_Amt</th>          <td>-3.493e-05</td> <td> 1.54e-06</td> <td>  -22.700</td> <td> 0.000</td> <td>-3.79e-05</td> <td>-3.19e-05</td>\n",
              "</tr>\n",
              "<tr>\n",
              "  <th>Total_Trans_Ct</th>           <td>    0.0097</td> <td>    0.000</td> <td>   47.819</td> <td> 0.000</td> <td>    0.009</td> <td>    0.010</td>\n",
              "</tr>\n",
              "<tr>\n",
              "  <th>Total_Ct_Chng_Q4_Q1</th>      <td>    0.2973</td> <td>    0.013</td> <td>   22.311</td> <td> 0.000</td> <td>    0.271</td> <td>    0.323</td>\n",
              "</tr>\n",
              "<tr>\n",
              "  <th>Avg_Utilization_Ratio</th>    <td>   -0.0055</td> <td>    0.018</td> <td>   -0.306</td> <td> 0.760</td> <td>   -0.041</td> <td>    0.030</td>\n",
              "</tr>\n",
              "</table>\n",
              "<table class=\"simpletable\">\n",
              "<tr>\n",
              "  <th>Omnibus:</th>       <td>1230.913</td> <th>  Durbin-Watson:     </th> <td>   1.720</td>\n",
              "</tr>\n",
              "<tr>\n",
              "  <th>Prob(Omnibus):</th>  <td> 0.000</td>  <th>  Jarque-Bera (JB):  </th> <td>1755.028</td>\n",
              "</tr>\n",
              "<tr>\n",
              "  <th>Skew:</th>           <td>-0.936</td>  <th>  Prob(JB):          </th> <td>    0.00</td>\n",
              "</tr>\n",
              "<tr>\n",
              "  <th>Kurtosis:</th>       <td> 3.811</td>  <th>  Cond. No.          </th> <td>7.13e+15</td>\n",
              "</tr>\n",
              "</table><br/><br/>Notes:<br/>[1] R² is computed without centering (uncentered) since the model does not contain a constant.<br/>[2] Standard Errors assume that the covariance matrix of the errors is correctly specified.<br/>[3] The smallest eigenvalue is 6.13e-20. This might indicate that there are<br/>strong multicollinearity problems or that the design matrix is singular."
            ],
            "text/latex": "\\begin{center}\n\\begin{tabular}{lclc}\n\\toprule\n\\textbf{Dep. Variable:}             & Attrition\\_Flag  & \\textbf{  R-squared (uncentered):}      &     0.898   \\\\\n\\textbf{Model:}                     &       OLS        & \\textbf{  Adj. R-squared (uncentered):} &     0.898   \\\\\n\\textbf{Method:}                    &  Least Squares   & \\textbf{  F-statistic:       }          &     6835.   \\\\\n\\textbf{Date:}                      & Tue, 30 Jan 2024 & \\textbf{  Prob (F-statistic):}          &     0.00    \\\\\n\\textbf{Time:}                      &     04:45:46     & \\textbf{  Log-Likelihood:    }          &   -1933.5   \\\\\n\\textbf{No. Observations:}          &       10127      & \\textbf{  AIC:               }          &     3893.   \\\\\n\\textbf{Df Residuals:}              &       10114      & \\textbf{  BIC:               }          &     3987.   \\\\\n\\textbf{Df Model:}                  &          13      & \\textbf{                     }          &             \\\\\n\\textbf{Covariance Type:}           &    nonrobust     & \\textbf{                     }          &             \\\\\n\\bottomrule\n\\end{tabular}\n\\begin{tabular}{lcccccc}\n                                    & \\textbf{coef} & \\textbf{std err} & \\textbf{t} & \\textbf{P$> |$t$|$} & \\textbf{[0.025} & \\textbf{0.975]}  \\\\\n\\midrule\n\\textbf{Customer\\_Age}              &       0.0004  &        0.001     &     0.739  &         0.460        &       -0.001    &        0.001     \\\\\n\\textbf{Dependent\\_count}           &      -0.0114  &        0.002     &    -5.231  &         0.000        &       -0.016    &       -0.007     \\\\\n\\textbf{Months\\_on\\_book}           &       0.0004  &        0.001     &     0.659  &         0.510        &       -0.001    &        0.002     \\\\\n\\textbf{Total\\_Relationship\\_Count} &       0.0437  &        0.002     &    22.610  &         0.000        &        0.040    &        0.048     \\\\\n\\textbf{Months\\_Inactive\\_12\\_mon}  &      -0.0416  &        0.003     &   -14.783  &         0.000        &       -0.047    &       -0.036     \\\\\n\\textbf{Contacts\\_Count\\_12\\_mon}   &      -0.0408  &        0.003     &   -16.032  &         0.000        &       -0.046    &       -0.036     \\\\\n\\textbf{Credit\\_Limit}              &    3.362e-05  &     1.66e-06     &    20.295  &         0.000        &     3.04e-05    &     3.69e-05     \\\\\n\\textbf{Total\\_Revolving\\_Bal}      &    6.573e-05  &     3.49e-06     &    18.847  &         0.000        &     5.89e-05    &     7.26e-05     \\\\\n\\textbf{Avg\\_Open\\_To\\_Buy}         &    -3.21e-05  &     1.85e-06     &   -17.346  &         0.000        &    -3.57e-05    &    -2.85e-05     \\\\\n\\textbf{Total\\_Amt\\_Chng\\_Q4\\_Q1}   &       0.0663  &        0.014     &     4.825  &         0.000        &        0.039    &        0.093     \\\\\n\\textbf{Total\\_Trans\\_Amt}          &   -3.493e-05  &     1.54e-06     &   -22.700  &         0.000        &    -3.79e-05    &    -3.19e-05     \\\\\n\\textbf{Total\\_Trans\\_Ct}           &       0.0097  &        0.000     &    47.819  &         0.000        &        0.009    &        0.010     \\\\\n\\textbf{Total\\_Ct\\_Chng\\_Q4\\_Q1}    &       0.2973  &        0.013     &    22.311  &         0.000        &        0.271    &        0.323     \\\\\n\\textbf{Avg\\_Utilization\\_Ratio}    &      -0.0055  &        0.018     &    -0.306  &         0.760        &       -0.041    &        0.030     \\\\\n\\bottomrule\n\\end{tabular}\n\\begin{tabular}{lclc}\n\\textbf{Omnibus:}       & 1230.913 & \\textbf{  Durbin-Watson:     } &    1.720  \\\\\n\\textbf{Prob(Omnibus):} &   0.000  & \\textbf{  Jarque-Bera (JB):  } & 1755.028  \\\\\n\\textbf{Skew:}          &  -0.936  & \\textbf{  Prob(JB):          } &     0.00  \\\\\n\\textbf{Kurtosis:}      &   3.811  & \\textbf{  Cond. No.          } & 7.13e+15  \\\\\n\\bottomrule\n\\end{tabular}\n%\\caption{OLS Regression Results}\n\\end{center}\n\nNotes: \\newline\n [1] R² is computed without centering (uncentered) since the model does not contain a constant. \\newline\n [2] Standard Errors assume that the covariance matrix of the errors is correctly specified. \\newline\n [3] The smallest eigenvalue is 6.13e-20. This might indicate that there are \\newline\n strong multicollinearity problems or that the design matrix is singular."
          },
          "metadata": {},
          "execution_count": 155
        }
      ]
    },
    {
      "cell_type": "code",
      "source": [
        "# 1. Calculate correlations between numeric variables and the target variable\n",
        "predictor_variables = df.drop(columns=['Attrition_Flag'])  # Exclude the target variable\n",
        "\n",
        "# Calculate the correlation matrix\n",
        "correlation_matrix = predictor_variables.corr()\n",
        "\n",
        "# Create a heatmap to visualize the correlation matrix\n",
        "plt.figure(figsize=(18, 10))\n",
        "sns.heatmap(correlation_matrix, annot=True, cmap='coolwarm', fmt=\".2f\", linewidths=0.5)\n",
        "plt.title('Correlation Matrix of Predictor Variables')\n",
        "plt.show()"
      ],
      "metadata": {
        "colab": {
          "base_uri": "https://localhost:8080/",
          "height": 1000
        },
        "id": "ORTIIRT-Sapx",
        "outputId": "38efb194-5934-48c4-a2cc-4d3b8deef031"
      },
      "execution_count": 30,
      "outputs": [
        {
          "output_type": "display_data",
          "data": {
            "text/plain": [
              "<Figure size 1800x1000 with 2 Axes>"
            ],
            "image/png": "[encoded data removed]"
          },
          "metadata": {}
        }
      ]
    },
    {
      "cell_type": "markdown",
      "source": [
        "### **Q7. In the predictor variables independent of all the other predictor variables?**\n",
        "Ans 7. -\n",
        "Theory → In the context of your assignment question, \"Are the predictor variables independent of all the other predictor variables?\", you are being asked whether the predictor variables (features used to predict the target variable) are correlated with each other or not.\n",
        "\n",
        "\"Months_on_book\" and \"Customer_Age\" have a high positive correlation of 0.79, suggesting a strong relationship between these two variables. This means they are not independent.\n",
        "\"Credit_Limit\" and \"Avg_Open_To_Buy\" also show a very high positive correlation of 0.99, which implies almost perfect positive linear relationship, and thus, they are not independent.\n",
        "\"Total_Trans_Amt\" and \"Total_Trans_Ct\" have a high positive correlation of 0.81, indicating a significant relationship and dependence between these two variables.\n"
      ],
      "metadata": {
        "id": "MD8ERq9jrrMU"
      }
    },
    {
      "cell_type": "code",
      "source": [
        "# Separate features\n",
        "X = df.drop(columns=['Attrition_Flag'])\n",
        "y = df['Attrition_Flag']\n",
        "\n",
        "# Initialize and train a Random Forest classifier\n",
        "rf_classifier = RandomForestClassifier()\n",
        "rf_classifier.fit(X, y)\n",
        "\n",
        "# Get feature importances\n",
        "feature_importances = rf_classifier.feature_importances_\n",
        "\n",
        "# Select the top N important features\n",
        "n_selected_features = 5  # You can adjust this value\n",
        "selected_features_indices = feature_importances.argsort()[-n_selected_features:][::-1]\n",
        "selected_features = X.columns[selected_features_indices]\n",
        "\n",
        "# Print selected features\n",
        "print(selected_features)\n",
        "\n",
        "# Create a bar plot for feature importances\n",
        "plt.figure(figsize=(10, 6))\n",
        "sns.barplot(x=feature_importances[selected_features_indices], y=selected_features, orient=\"h\")\n",
        "plt.xlabel(\"Feature Importance\")\n",
        "plt.ylabel(\"Features\")\n",
        "plt.title(f\"Top {n_selected_features} Features based on Feature Importance\")\n",
        "plt.show()\n"
      ],
      "metadata": {
        "colab": {
          "base_uri": "https://localhost:8080/",
          "height": 616
        },
        "id": "fykYIhq1Unpc",
        "outputId": "e4b60072-923e-445d-b2b1-ae7648b0fae6"
      },
      "execution_count": 154,
      "outputs": [
        {
          "output_type": "stream",
          "name": "stdout",
          "text": [
            "Index(['Total_Trans_Amt', 'Total_Trans_Ct', 'Total_Ct_Chng_Q4_Q1',\n",
            "       'Total_Revolving_Bal', 'Total_Relationship_Count'],\n",
            "      dtype='object')\n"
          ]
        },
        {
          "output_type": "display_data",
          "data": {
            "text/plain": [
              "<Figure size 1000x600 with 1 Axes>"
            ],
            "image/png": "[encoded data removed]"
          },
          "metadata": {}
        }
      ]
    },
    {
      "cell_type": "code",
      "source": [
        "X = df.drop(columns=['Attrition_Flag'])  # Features\n",
        "y = df['Attrition_Flag']  # Target variable\n",
        "\n",
        "# Initialize SelectKBest with chi-squared scoring\n",
        "n_selected_features = 5\n",
        "selector = SelectKBest(score_func=chi2, k=n_selected_features)\n",
        "\n",
        "# Fit the selector to the data and get selected features\n",
        "selector.fit(X, y)\n",
        "selected_features_indices = selector.get_support(indices=True)\n",
        "selected_features = X.columns[selected_features_indices]\n",
        "\n",
        "# Univariate analysis\n",
        "# Get the chi-squared test scores\n",
        "chi2_scores = selector.scores_\n",
        "\n",
        "# Create a bar plot for chi-squared scores\n",
        "plt.figure(figsize=(10, 6))\n",
        "sns.barplot(x=chi2_scores[selected_features_indices], y=selected_features, orient=\"h\")\n",
        "plt.xlabel(\"Chi-squared Test Score\")\n",
        "plt.ylabel(\"Features\")\n",
        "plt.title(f\"Top {n_selected_features} Features Selected by Chi-squared Test\")\n",
        "plt.show()"
      ],
      "metadata": {
        "colab": {
          "base_uri": "https://localhost:8080/",
          "height": 564
        },
        "id": "UKfZOpbXWNbl",
        "outputId": "21d38b32-2f67-4b6f-b6d8-332f72a7c710"
      },
      "execution_count": 153,
      "outputs": [
        {
          "output_type": "display_data",
          "data": {
            "text/plain": [
              "<Figure size 1000x600 with 1 Axes>"
            ],
            "image/png": "[encoded data removed]"
          },
          "metadata": {}
        }
      ]
    },
    {
      "cell_type": "markdown",
      "source": [
        "### **Q8. Which predictor variables are the most important?**\n",
        "Ans 8. - List of predictor variables that are most important according to various feature selection models are as follows -\n",
        "Total_Revolving_Bal,\n",
        "Total_Trans_Amt\n",
        "Total_Ct_Chng_Q4_Q1\n",
        "Total_Trans_Ct\n",
        "Total_Revolving_Bal\n",
        "Avg_Utilization_Ratio\n",
        "Total_Relationship_Count\n",
        "Credit_Limit\n",
        "Contacts_Count_12_mon\n",
        "\n",
        "A total of 9 predictors are most important to determine the dependent variables.\n"
      ],
      "metadata": {
        "id": "hwKkemVEsDhT"
      }
    },
    {
      "cell_type": "code",
      "source": [
        "import pandas as pd\n",
        "\n",
        "# Assuming 'df' is your DataFrame containing the dataset\n",
        "numeric_columns = ['Customer_Age', 'Credit_Limit', 'Avg_Open_To_Buy', 'Total_Trans_Amt', 'Total_Revolving_Bal','Avg_Utilization_Ratio',  'Total_Trans_Ct']\n",
        "\n",
        "# Calculate summary statistics for numeric predictor variables\n",
        "summary = df[numeric_columns].describe()\n",
        "\n",
        "# Display the summary statistics\n",
        "print(summary)\n"
      ],
      "metadata": {
        "colab": {
          "base_uri": "https://localhost:8080/"
        },
        "id": "Ogzr6dU8VJ12",
        "outputId": "5631b3df-8f83-45ab-9a0f-b7480e643a59"
      },
      "execution_count": 35,
      "outputs": [
        {
          "output_type": "stream",
          "name": "stdout",
          "text": [
            "       Customer_Age  Credit_Limit  Avg_Open_To_Buy  Total_Trans_Amt  \\\n",
            "count  10127.000000  10127.000000     10127.000000     10127.000000   \n",
            "mean      46.325960   8631.953698      7469.139637      4404.086304   \n",
            "std        8.016814   9088.776650      9090.685324      3397.129254   \n",
            "min       26.000000   1438.300000         3.000000       510.000000   \n",
            "25%       41.000000   2555.000000      1324.500000      2155.500000   \n",
            "50%       46.000000   4549.000000      3474.000000      3899.000000   \n",
            "75%       52.000000  11067.500000      9859.000000      4741.000000   \n",
            "max       73.000000  34516.000000     34516.000000     18484.000000   \n",
            "\n",
            "       Total_Revolving_Bal  Avg_Utilization_Ratio  Total_Trans_Ct  \n",
            "count         10127.000000           10127.000000    10127.000000  \n",
            "mean           1162.814061               0.274894       64.858695  \n",
            "std             814.987335               0.275691       23.472570  \n",
            "min               0.000000               0.000000       10.000000  \n",
            "25%             359.000000               0.023000       45.000000  \n",
            "50%            1276.000000               0.176000       67.000000  \n",
            "75%            1784.000000               0.503000       81.000000  \n",
            "max            2517.000000               0.999000      139.000000  \n"
          ]
        }
      ]
    },
    {
      "cell_type": "markdown",
      "source": [
        "### **Q5. Which independent variables have missing data? How much?**\n",
        "Ans 5. As we can see their is no missing values in any columns of the dataset."
      ],
      "metadata": {
        "id": "0WpzhKbaXkFP"
      }
    },
    {
      "cell_type": "code",
      "source": [
        "df.isnull().sum()\n"
      ],
      "metadata": {
        "colab": {
          "base_uri": "https://localhost:8080/"
        },
        "id": "MMROvyB9Wut_",
        "outputId": "8a9143f0-c950-4fb7-94a1-20dbf2c60ccf"
      },
      "execution_count": 43,
      "outputs": [
        {
          "output_type": "execute_result",
          "data": {
            "text/plain": [
              "Attrition_Flag              0\n",
              "Customer_Age                0\n",
              "Gender                      0\n",
              "Dependent_count             0\n",
              "Education_Level             0\n",
              "Marital_Status              0\n",
              "Income_Category             0\n",
              "Card_Category               0\n",
              "Months_on_book              0\n",
              "Total_Relationship_Count    0\n",
              "Months_Inactive_12_mon      0\n",
              "Contacts_Count_12_mon       0\n",
              "Credit_Limit                0\n",
              "Total_Revolving_Bal         0\n",
              "Avg_Open_To_Buy             0\n",
              "Total_Amt_Chng_Q4_Q1        0\n",
              "Total_Trans_Amt             0\n",
              "Total_Trans_Ct              0\n",
              "Total_Ct_Chng_Q4_Q1         0\n",
              "Avg_Utilization_Ratio       0\n",
              "dtype: int64"
            ]
          },
          "metadata": {},
          "execution_count": 43
        }
      ]
    },
    {
      "cell_type": "markdown",
      "source": [
        "# **Split Dataset into Train & Test datasets -**"
      ],
      "metadata": {
        "id": "CYTmhWkxYDee"
      }
    },
    {
      "cell_type": "markdown",
      "source": [
        "### **Q6. Do the training and test sets have the same data?**"
      ],
      "metadata": {
        "id": "SK4uKKokYYJ1"
      }
    },
    {
      "cell_type": "code",
      "source": [
        "from sklearn.model_selection import train_test_split\n",
        "\n",
        "#Train & Test dataset split\n",
        "X = df.drop(columns=['Attrition_Flag'])  # Features\n",
        "y = df['Attrition_Flag']  # Target variable\n",
        "\n",
        "# Split the dataset into equal parts (70% train, 30% test)\n",
        "X_train, X_test, y_train, y_test = train_test_split(X, y, test_size=0.3, random_state=42)\n"
      ],
      "metadata": {
        "id": "ZQNcAeNJXE-z"
      },
      "execution_count": 76,
      "outputs": []
    },
    {
      "cell_type": "code",
      "source": [
        "# Check if the data in X_train and X_test are identical\n",
        "data_equal = X_train.equals(X_test)\n",
        "\n",
        "if data_equal:\n",
        "    print(\"The training and test sets have identical data.\")\n",
        "else:\n",
        "    print(\"The training and test sets have different data.\")\n"
      ],
      "metadata": {
        "colab": {
          "base_uri": "https://localhost:8080/"
        },
        "id": "wqlBPaT5YSWJ",
        "outputId": "3daa5f6f-f083-466a-8a1a-54e7564a44cc"
      },
      "execution_count": 45,
      "outputs": [
        {
          "output_type": "stream",
          "name": "stdout",
          "text": [
            "The training and test sets have different data.\n"
          ]
        }
      ]
    },
    {
      "cell_type": "markdown",
      "source": [
        "# **Model Training -**"
      ],
      "metadata": {
        "id": "7Zj3s3iqZC8o"
      }
    },
    {
      "cell_type": "markdown",
      "source": [
        "### **Logistic Regression -Accuracy of model = 88.31%**"
      ],
      "metadata": {
        "id": "rQZE5LGqbXai"
      }
    },
    {
      "cell_type": "code",
      "source": [
        "X_train, X_test, y_train, y_test  # Make sure you have already split the data\n",
        "\n",
        "# Initialize the Logistic Regression model\n",
        "logistic_classifier = LogisticRegression(max_iter=1000)\n",
        "\n",
        "# Fit the model to the training data\n",
        "logistic_classifier.fit(X_train, y_train)\n",
        "\n",
        "# Make predictions on the test data\n",
        "y_pred = logistic_classifier.predict(X_test)\n",
        "\n",
        "# Calculate accuracy & classification\n",
        "accuracy = accuracy_score(y_test, y_pred)\n",
        "classification_rep = classification_report(y_test, y_pred)\n",
        "\n",
        "print(f\"Accuracy of Logistic Regression: {accuracy}\")\n",
        "print(\"\\n Classification Report:\\n\", classification_rep)\n",
        "\n",
        "conf_matrix = confusion_matrix(y_test, y_pred)\n",
        "# Plot the confusion matrix as a heatmap\n",
        "plt.figure(figsize=(8, 6))\n",
        "sns.heatmap(conf_matrix, annot=True, fmt=\"d\", cmap=\"Blues\", cbar=False,\n",
        "            xticklabels=[\"Not Churned\", \"Churned\"], yticklabels=[\"Not Churned\", \"Churned\"])\n",
        "plt.xlabel(\"Predicted\")\n",
        "plt.ylabel(\"Actual\")\n",
        "plt.title(\"Confusion Matrix\")\n",
        "plt.show()\n"
      ],
      "metadata": {
        "colab": {
          "base_uri": "https://localhost:8080/",
          "height": 772
        },
        "id": "ki_uayfWZPvF",
        "outputId": "77888699-b353-4aeb-f6e3-1c86c8bf5b2c"
      },
      "execution_count": 143,
      "outputs": [
        {
          "output_type": "stream",
          "name": "stdout",
          "text": [
            "Accuracy of Logistic Regression: 0.8841724251398486\n",
            "\n",
            " Classification Report:\n",
            "               precision    recall  f1-score   support\n",
            "\n",
            "           0       0.73      0.46      0.57       496\n",
            "           1       0.90      0.97      0.93      2543\n",
            "\n",
            "    accuracy                           0.88      3039\n",
            "   macro avg       0.82      0.71      0.75      3039\n",
            "weighted avg       0.87      0.88      0.87      3039\n",
            "\n"
          ]
        },
        {
          "output_type": "display_data",
          "data": {
            "text/plain": [
              "<Figure size 800x600 with 1 Axes>"
            ],
            "image/png": "[encoded data removed]"
          },
          "metadata": {}
        }
      ]
    },
    {
      "cell_type": "markdown",
      "source": [
        "### **SVM-  Accuracy of model = 83.67%**"
      ],
      "metadata": {
        "id": "YH_uTsblcPJy"
      }
    },
    {
      "cell_type": "code",
      "source": [
        "# Initialize SVM classifier\n",
        "svm_classifier = SVC()\n",
        "\n",
        "# Train the SVM classifier on the training data\n",
        "svm_classifier.fit(X_train, y_train)\n",
        "\n",
        "# Make predictions on the test data\n",
        "y_pred_svm = svm_classifier.predict(X_test)\n",
        "\n",
        "# Calculate accuracy & classification report\n",
        "accuracy_svm = accuracy_score(y_test, y_pred_svm)\n",
        "classification_rep = classification_report(y_test, y_pred)\n",
        "print(\"Accuracy of SVM:\", accuracy_svm)\n",
        "print(\"\\n Classification Report:\\n\", classification_rep)"
      ],
      "metadata": {
        "colab": {
          "base_uri": "https://localhost:8080/"
        },
        "id": "PHIbAzfYbFJY",
        "outputId": "ccb879ec-d981-4a93-b013-a26a86562480"
      },
      "execution_count": 78,
      "outputs": [
        {
          "output_type": "stream",
          "name": "stdout",
          "text": [
            "Accuracy of SVM: 0.836788417242514\n",
            "\n",
            " Classification Report:\n",
            "               precision    recall  f1-score   support\n",
            "\n",
            "           0       0.71      0.47      0.57       496\n",
            "           1       0.90      0.96      0.93      2543\n",
            "\n",
            "    accuracy                           0.88      3039\n",
            "   macro avg       0.81      0.72      0.75      3039\n",
            "weighted avg       0.87      0.88      0.87      3039\n",
            "\n"
          ]
        }
      ]
    },
    {
      "cell_type": "markdown",
      "source": [
        "### **Decision Tree Model -  Accuracy of model = 93.35%**"
      ],
      "metadata": {
        "id": "t6BENiDacP4T"
      }
    },
    {
      "cell_type": "code",
      "source": [
        "# Initialize Decision Tree classifier\n",
        "dt_classifier = DecisionTreeClassifier()\n",
        "\n",
        "# Train the Decision Tree classifier on the training data\n",
        "dt_classifier.fit(X_train, y_train)\n",
        "\n",
        "# Make predictions on the test data\n",
        "y_pred_dt = dt_classifier.predict(X_test)\n",
        "\n",
        "# Calculate accuracy & classification report\n",
        "accuracy_dt = accuracy_score(y_test, y_pred_dt)\n",
        "classification_rep = classification_report(y_test, y_pred)\n",
        "print(\"Accuracy of Decision Tree:\", accuracy_dt)\n",
        "print(\"\\n Classification Report:\\n\", classification_rep)\n"
      ],
      "metadata": {
        "colab": {
          "base_uri": "https://localhost:8080/"
        },
        "id": "afRJZhGkcN56",
        "outputId": "2aa34e6e-8962-4db0-f1c5-6ada734c9e36"
      },
      "execution_count": 56,
      "outputs": [
        {
          "output_type": "stream",
          "name": "stdout",
          "text": [
            "Accuracy of Decision Tree: 0.9335307666995722\n",
            "\n",
            " Classification Report:\n",
            "               precision    recall  f1-score   support\n",
            "\n",
            "           0       0.93      0.82      0.87       496\n",
            "           1       0.97      0.99      0.98      2543\n",
            "\n",
            "    accuracy                           0.96      3039\n",
            "   macro avg       0.95      0.90      0.92      3039\n",
            "weighted avg       0.96      0.96      0.96      3039\n",
            "\n"
          ]
        }
      ]
    },
    {
      "cell_type": "markdown",
      "source": [
        "# **Outlier Detection -**"
      ],
      "metadata": {
        "id": "wTAaErcLdTUJ"
      }
    },
    {
      "cell_type": "code",
      "source": [
        "import seaborn as sns\n",
        "import matplotlib.pyplot as plt\n",
        "\n",
        "# Create box plots for numeric variables (excluding 'Attrition_Flag')\n",
        "numeric_columns = ['Customer_Age', 'Months_on_book', 'Credit_Limit', 'Total_Revolving_Bal','Avg_Open_To_Buy', 'Total_Amt_Chng_Q4_Q1', 'Total_Trans_Amt']\n",
        "\n",
        "for column in numeric_columns:\n",
        "    sns.boxplot(x=df[column])\n",
        "    plt.xlabel(column)\n",
        "    plt.title(f'Box Plot of {column}')\n",
        "    plt.show()\n"
      ],
      "metadata": {
        "colab": {
          "base_uri": "https://localhost:8080/",
          "height": 1000
        },
        "id": "1e5cY8IlcxIf",
        "outputId": "a22cb5cc-3cb6-42c9-b70d-f98c1fef2335"
      },
      "execution_count": 57,
      "outputs": [
        {
          "output_type": "display_data",
          "data": {
            "text/plain": [
              "<Figure size 640x480 with 1 Axes>"
            ],
            "image/png": "[encoded data removed]"
          },
          "metadata": {}
        },
        {
          "output_type": "display_data",
          "data": {
            "text/plain": [
              "<Figure size 640x480 with 1 Axes>"
            ],
            "image/png": "[encoded data removed]"
          },
          "metadata": {}
        },
        {
          "output_type": "display_data",
          "data": {
            "text/plain": [
              "<Figure size 640x480 with 1 Axes>"
            ],
            "image/png": "[encoded data removed]"
          },
          "metadata": {}
        },
        {
          "output_type": "display_data",
          "data": {
            "text/plain": [
              "<Figure size 640x480 with 1 Axes>"
            ],
            "image/png": "[encoded data removed]"
          },
          "metadata": {}
        },
        {
          "output_type": "display_data",
          "data": {
            "text/plain": [
              "<Figure size 640x480 with 1 Axes>"
            ],
            "image/png": "[encoded data removed]"
          },
          "metadata": {}
        },
        {
          "output_type": "display_data",
          "data": {
            "text/plain": [
              "<Figure size 640x480 with 1 Axes>"
            ],
            "image/png": "[encoded data removed]"
          },
          "metadata": {}
        },
        {
          "output_type": "display_data",
          "data": {
            "text/plain": [
              "<Figure size 640x480 with 1 Axes>"
            ],
            "image/png": "[encoded data removed]"
          },
          "metadata": {}
        }
      ]
    },
    {
      "cell_type": "markdown",
      "source": [
        "### ***Q9. Do the ranges of the predictor variables make sense?**\n",
        "Ans 9.\n",
        "\n",
        "Customer_Age: Ranges from 26 to 73 years with a mean age of approximately 46 years. This range makes sense for a credit card customer base.\n",
        "\n",
        "Dependent_count: Ranges from 0 to 5, which is reasonable for the number of dependents a person might have.\n",
        "\n",
        "Months_on_book: Ranges from 13 to 56 months. This represents the length of the relationship with the bank and is a plausible range.\n",
        "\n",
        "Total_Relationship_Count: Ranges from 1 to 6. This could represent the number of products a customer has with the bank, and the range is logical.\n",
        "\n",
        "Months_Inactive_12_mon: Ranges from 0 to 6 months, indicating the number of months a customer was inactive in the last 12 months. This range is also reasonable.\n",
        "\n",
        "Contacts_Count_12_mon: Ranges from 0 to 6, which could represent the number of contacts or interactions with the bank. The range seems plausible.\n",
        "\n",
        "Credit_Limit: Ranges from $1,438.30 to $34,516, which fits within the typical range of credit limits for personal credit cards.\n",
        "\n",
        "Total_Revolving_Bal: Ranges from $0 to $2,517. This is the balance that carries over from one month to the next, and the range appears reasonable for credit card users.\n",
        "\n",
        "Avg_Open_To_Buy: Ranges from $3 to $34,516. This represents the unused line of credit, and the range is consistent with the credit limit range.\n",
        "\n",
        "Total_Amt_Chng_Q4_Q1: Ranges from 0 to 3.397. This might represent a ratio or change amount and should be investigated to ensure it aligns with expectations.\n",
        "\n",
        "Total_Trans_Amt: Ranges from $510 to $18,484, which indicates the total amount spent on transactions. This range is typical for credit card expenditure over a period of time.\n",
        "\n",
        "Total_Trans_Ct: Ranges from 10 to 139, representing the count of transactions. This range is typical for credit card usage.\n",
        "\n",
        "Total_Ct_Chng_Q4_Q1: Ranges from 0 to 3.714, which could be a ratio indicating the change in transaction count. The range seems reasonable but should be contextualized within the specific meaning in the dataset.\n",
        "\n",
        "Avg_Utilization_Ratio: Ranges from 0 to 0.999, likely representing the proportion of the credit line used. A ratio from 0 to just under 1 is expected.\n",
        "\n",
        "The last two variables appear to be Naive Bayes Classifier probabilities for the \"Attrition_Flag\" and are not predictor variables but rather outputs of a model.\n"
      ],
      "metadata": {
        "id": "pdOQgxMPsTB2"
      }
    },
    {
      "cell_type": "markdown",
      "source": [
        "# **Model Training - (Removing Outliers)**\n",
        "\n",
        "1.   Accuracy of Logistic Regression: 89.9086\n",
        "2.   Accuracy of Decision Tree: 93.388\n",
        "1.   Accuracy of Random Forest: 96.215"
      ],
      "metadata": {
        "id": "HoTD-RpPd5mH"
      }
    },
    {
      "cell_type": "code",
      "source": [
        "# Specify columns with outliers\n",
        "columns_with_outliers = [ 'Credit_Limit',  'Avg_Open_To_Buy', 'Total_Trans_Amt', 'Total_Amt_Chng_Q4_Q1']\n",
        "\n",
        "# Function to remove outliers using IQR method\n",
        "def remove_outliers_iqr(df, columns):\n",
        "    for column in columns:\n",
        "        Q1 = df[column].quantile(0.25)\n",
        "        Q3 = df[column].quantile(0.75)\n",
        "        IQR = Q3 - Q1\n",
        "        lower_bound = Q1 - 1.5 * IQR\n",
        "        upper_bound = Q3 + 1.5 * IQR\n",
        "        df = df[(df[column] >= lower_bound) & (df[column] <= upper_bound)]\n",
        "    return df\n",
        "\n",
        "# Remove outliers from the DataFrame\n",
        "df_cleaned = remove_outliers_iqr(df, columns_with_outliers)"
      ],
      "metadata": {
        "id": "o8hBzXdddlD4"
      },
      "execution_count": 58,
      "outputs": []
    },
    {
      "cell_type": "code",
      "source": [
        "# Check the number of rows removed\n",
        "rows_removed = len(df) - len(df_cleaned)\n",
        "print(f\"Number of rows removed due to outliers: {rows_removed}\")"
      ],
      "metadata": {
        "colab": {
          "base_uri": "https://localhost:8080/"
        },
        "id": "EyHkpqJReN4e",
        "outputId": "ced5285c-301f-4fc0-b720-412972ecb604"
      },
      "execution_count": 59,
      "outputs": [
        {
          "output_type": "stream",
          "name": "stdout",
          "text": [
            "Number of rows removed due to outliers: 2466\n"
          ]
        }
      ]
    },
    {
      "cell_type": "code",
      "source": [
        "import seaborn as sns\n",
        "import matplotlib.pyplot as plt\n",
        "\n",
        "# Create box plots for cleaned data\n",
        "for column in columns_with_outliers:\n",
        "    sns.boxplot(x=df_cleaned[column])\n",
        "    plt.xlabel(column)\n",
        "    plt.title(f'Box Plot of {column} (Cleaned)')\n",
        "    plt.show()"
      ],
      "metadata": {
        "colab": {
          "base_uri": "https://localhost:8080/",
          "height": 1000
        },
        "id": "kIJVIFf0eQFh",
        "outputId": "9a474d39-713a-49e2-b0c1-35bcc9e90014"
      },
      "execution_count": 60,
      "outputs": [
        {
          "output_type": "display_data",
          "data": {
            "text/plain": [
              "<Figure size 640x480 with 1 Axes>"
            ],
            "image/png": "[encoded data removed]"
          },
          "metadata": {}
        },
        {
          "output_type": "display_data",
          "data": {
            "text/plain": [
              "<Figure size 640x480 with 1 Axes>"
            ],
            "image/png": "[encoded data removed]"
          },
          "metadata": {}
        },
        {
          "output_type": "display_data",
          "data": {
            "text/plain": [
              "<Figure size 640x480 with 1 Axes>"
            ],
            "image/png": "[encoded data removed]"
          },
          "metadata": {}
        },
        {
          "output_type": "display_data",
          "data": {
            "text/plain": [
              "<Figure size 640x480 with 1 Axes>"
            ],
            "image/png": "[encoded data removed]"
          },
          "metadata": {}
        }
      ]
    },
    {
      "cell_type": "code",
      "source": [
        "X = df_cleaned.drop(columns=['Attrition_Flag'])  # Features\n",
        "y = df_cleaned['Attrition_Flag']  # Target variable\n",
        "\n",
        "# Split the dataset into training and testing sets\n",
        "X_train, X_test, y_train, y_test = train_test_split(X, y, test_size=0.3, random_state=42)"
      ],
      "metadata": {
        "id": "1xGZGDjhfVzF"
      },
      "execution_count": 68,
      "outputs": []
    },
    {
      "cell_type": "code",
      "source": [
        "# Create a Logistic Regression model with a higher max_iter value\n",
        "logistic_regression_model = LogisticRegression(max_iter=2000)  # You can adjust the value as needed\n",
        "\n",
        "# Fit the model to the training data\n",
        "logistic_regression_model.fit(X_train, y_train)\n",
        "\n",
        "# Evaluate the model on the test data and print the accuracy\n",
        "accuracy = logistic_regression_model.score(X_test, y_test)\n",
        "print(\"Accuracy of Logistic Regression:\", accuracy)"
      ],
      "metadata": {
        "colab": {
          "base_uri": "https://localhost:8080/"
        },
        "id": "8Tlz42bdec4j",
        "outputId": "ef673364-b552-4d45-d968-8e6a1a1233b2"
      },
      "execution_count": 69,
      "outputs": [
        {
          "output_type": "stream",
          "name": "stdout",
          "text": [
            "Accuracy of Logistic Regression: 0.8990865593736407\n"
          ]
        }
      ]
    },
    {
      "cell_type": "code",
      "source": [
        "# Initialize and train a Random Forest model\n",
        "random_forest_model = RandomForestClassifier()\n",
        "random_forest_model.fit(X_train, y_train)\n",
        "\n",
        "# Predict using the trained model\n",
        "y_pred_random_forest = random_forest_model.predict(X_test)\n",
        "\n",
        "# Calculate accuracy\n",
        "accuracy_random_forest = accuracy_score(y_test, y_pred_random_forest)\n",
        "print(\"Accuracy of Random Forest:\", accuracy_random_forest)\n"
      ],
      "metadata": {
        "colab": {
          "base_uri": "https://localhost:8080/"
        },
        "id": "0rX_Q5kDewAZ",
        "outputId": "a4263883-958a-4b50-874c-5f3ac19eb34c"
      },
      "execution_count": 70,
      "outputs": [
        {
          "output_type": "stream",
          "name": "stdout",
          "text": [
            "Accuracy of Random Forest: 0.9630274032187908\n"
          ]
        }
      ]
    },
    {
      "cell_type": "code",
      "source": [
        "# Create an SVM classifier\n",
        "svm_classifier = SVC(kernel='linear', C=1.0)  # You can choose a different kernel and adjust C as needed\n",
        "\n",
        "# Fit the SVM model to the training data\n",
        "svm_classifier.fit(X_train, y_train)\n",
        "\n",
        "# Make predictions on the test data\n",
        "y_pred = svm_classifier.predict(X_test)\n",
        "\n",
        "# Calculate the accuracy of the model\n",
        "accuracy = accuracy_score(y_test, y_pred)\n",
        "print(\"Accuracy of SVM:\", accuracy)\n"
      ],
      "metadata": {
        "colab": {
          "base_uri": "https://localhost:8080/"
        },
        "id": "vvAC2mzees91",
        "outputId": "7d172d1f-c6c4-43ee-e952-7eed81eba6eb"
      },
      "execution_count": 71,
      "outputs": [
        {
          "output_type": "stream",
          "name": "stdout",
          "text": [
            "Accuracy of Decision Tree: 0.9325793823401479\n"
          ]
        }
      ]
    },
    {
      "cell_type": "markdown",
      "source": [
        "# **Removing data and applying imputation.**\n"
      ],
      "metadata": {
        "id": "CzAfOc_2glkM"
      }
    },
    {
      "cell_type": "code",
      "source": [
        "import numpy as np\n",
        "\n",
        "# Sample dataset\n",
        "data_info = df.copy()\n",
        "\n",
        "# Calculate the mean\n",
        "mean = np.mean(data_info['Customer_Age'])\n",
        "\n",
        "# Calculate the median\n",
        "median = np.median(data_info['Customer_Age'])\n",
        "\n",
        "# Calculate the mode\n",
        "from scipy import stats\n",
        "mode = stats.mode(data_info['Customer_Age'])\n",
        "\n",
        "print(\"Mean:\", mean)\n",
        "print(\"Median:\", median)\n",
        "print(\"Mode:\", mode.mode)\n"
      ],
      "metadata": {
        "colab": {
          "base_uri": "https://localhost:8080/"
        },
        "id": "qY5Jm_Mee7sN",
        "outputId": "7a84f167-3d12-4810-e220-36794b49050f"
      },
      "execution_count": 79,
      "outputs": [
        {
          "output_type": "stream",
          "name": "stdout",
          "text": [
            "Mean: 46.32596030413745\n",
            "Median: 46.0\n",
            "Mode: 44\n"
          ]
        }
      ]
    },
    {
      "cell_type": "markdown",
      "source": [
        "# **1% - Mean Method -**"
      ],
      "metadata": {
        "id": "R-KKKxeNWOG5"
      }
    },
    {
      "cell_type": "code",
      "source": [
        "data_1_mean = df.copy()\n",
        "\n",
        "# Removing 1% data from the 'Customer_Age' column\n",
        "data_percent_mean1 = data_1_mean['Customer_Age'].sample(frac=0.01)\n",
        "\n",
        "# Using the index of the sampled data to set them to NaN\n",
        "data_1_mean.loc[data_percent_mean1.index, 'Customer_Age'] = np.NaN"
      ],
      "metadata": {
        "id": "NvP5yB0d0EcI"
      },
      "execution_count": 80,
      "outputs": []
    },
    {
      "cell_type": "code",
      "source": [
        "data_1_mean['Customer_Age'].isnull().sum()"
      ],
      "metadata": {
        "colab": {
          "base_uri": "https://localhost:8080/"
        },
        "id": "rJjlmrfx0Eet",
        "outputId": "41728233-8c4e-4f8b-e08e-c5b0436a257c"
      },
      "execution_count": 81,
      "outputs": [
        {
          "output_type": "execute_result",
          "data": {
            "text/plain": [
              "101"
            ]
          },
          "metadata": {},
          "execution_count": 81
        }
      ]
    },
    {
      "cell_type": "code",
      "source": [
        "data_1_mean['Customer_Age'] = data_1_mean['Customer_Age'].fillna(data_1_mean['Customer_Age'].mean())"
      ],
      "metadata": {
        "id": "n767Mo7z1M-K"
      },
      "execution_count": 82,
      "outputs": []
    },
    {
      "cell_type": "code",
      "source": [
        "data_1_mean['Customer_Age'].isnull().sum()"
      ],
      "metadata": {
        "colab": {
          "base_uri": "https://localhost:8080/"
        },
        "id": "RibSyBrt1ssr",
        "outputId": "e0297d3c-73ee-4a33-b16d-28d32fa46b64"
      },
      "execution_count": 83,
      "outputs": [
        {
          "output_type": "execute_result",
          "data": {
            "text/plain": [
              "0"
            ]
          },
          "metadata": {},
          "execution_count": 83
        }
      ]
    },
    {
      "cell_type": "code",
      "source": [
        "#Train & Test dataset split\n",
        "X = data_1_mean.drop(columns=['Attrition_Flag'])  # Features\n",
        "y = data_1_mean['Attrition_Flag']  # Target variable\n",
        "\n",
        "# Split the dataset into equal parts (70% train, 30% test)\n",
        "X_train, X_test, y_train, y_test = train_test_split(X, y, test_size=0.3, random_state=42)\n"
      ],
      "metadata": {
        "id": "dH0-zXvM26EE"
      },
      "execution_count": 85,
      "outputs": []
    },
    {
      "cell_type": "code",
      "source": [
        "# Initialize Decision Tree classifier\n",
        "dt_classifier = DecisionTreeClassifier()\n",
        "\n",
        "# Train the Decision Tree classifier on the training data\n",
        "dt_classifier.fit(X_train, y_train)\n",
        "\n",
        "# Make predictions on the test data\n",
        "y_pred_dt = dt_classifier.predict(X_test)\n",
        "\n",
        "# Calculate accuracy for Decision Tree\n",
        "accuracy_dt = accuracy_score(y_test, y_pred_dt)\n",
        "\n",
        "print(\"Accuracy of Decision Tree:\", accuracy_dt)\n",
        "# Generate a classification report\n",
        "classification_rep = classification_report(y_test, y_pred)\n",
        "print(\"\\n Classification Report:\\n\", classification_rep)\n"
      ],
      "metadata": {
        "colab": {
          "base_uri": "https://localhost:8080/"
        },
        "id": "L89v9qCE2-UL",
        "outputId": "1508b87d-34f2-4905-a78b-2505ec1f2859"
      },
      "execution_count": 86,
      "outputs": [
        {
          "output_type": "stream",
          "name": "stdout",
          "text": [
            "Accuracy of Decision Tree: 0.9285949325435998\n",
            "\n",
            " Classification Report:\n",
            "               precision    recall  f1-score   support\n",
            "\n",
            "           0       0.71      0.47      0.57       496\n",
            "           1       0.90      0.96      0.93      2543\n",
            "\n",
            "    accuracy                           0.88      3039\n",
            "   macro avg       0.81      0.72      0.75      3039\n",
            "weighted avg       0.87      0.88      0.87      3039\n",
            "\n"
          ]
        }
      ]
    },
    {
      "cell_type": "markdown",
      "source": [
        "# **5% - Mean Method -**"
      ],
      "metadata": {
        "id": "cUo1VAQ614KB"
      }
    },
    {
      "cell_type": "code",
      "source": [
        "data_5_mean = df.copy()\n",
        "\n",
        "# Removing 5% data from the 'Customer_Age' column\n",
        "data_percent_mean5 = data_5_mean['Customer_Age'].sample(frac=0.05)\n",
        "\n",
        "# Using the index of the sampled data to set them to NaN\n",
        "data_5_mean.loc[data_percent_mean5.index, 'Customer_Age'] = np.NaN"
      ],
      "metadata": {
        "id": "voM_1-NU0EhW"
      },
      "execution_count": 88,
      "outputs": []
    },
    {
      "cell_type": "code",
      "source": [
        "data_5_mean['Customer_Age'].isnull().sum()"
      ],
      "metadata": {
        "colab": {
          "base_uri": "https://localhost:8080/"
        },
        "id": "3QApynOp0Ej0",
        "outputId": "289da05e-6c1c-4616-c4d3-8b358b8ada3a"
      },
      "execution_count": 89,
      "outputs": [
        {
          "output_type": "execute_result",
          "data": {
            "text/plain": [
              "506"
            ]
          },
          "metadata": {},
          "execution_count": 89
        }
      ]
    },
    {
      "cell_type": "code",
      "source": [
        "data_5_mean['Customer_Age']=data_5_mean['Customer_Age'].fillna(data_5_mean['Customer_Age'].mean())"
      ],
      "metadata": {
        "id": "d6JTkx7y1N2v"
      },
      "execution_count": 90,
      "outputs": []
    },
    {
      "cell_type": "code",
      "source": [
        "data_5_mean['Customer_Age'].isnull().sum()"
      ],
      "metadata": {
        "colab": {
          "base_uri": "https://localhost:8080/"
        },
        "id": "avlfK9IK1vTY",
        "outputId": "416b645f-84ad-4bd5-dfe6-a134d93fbc65"
      },
      "execution_count": 91,
      "outputs": [
        {
          "output_type": "execute_result",
          "data": {
            "text/plain": [
              "0"
            ]
          },
          "metadata": {},
          "execution_count": 91
        }
      ]
    },
    {
      "cell_type": "code",
      "source": [
        "#Train & Test dataset split\n",
        "X = data_5_mean.drop(columns=['Attrition_Flag'])  # Features\n",
        "y = data_5_mean['Attrition_Flag']  # Target variable\n",
        "\n",
        "# Split the dataset into equal parts (70% train, 30% test)\n",
        "X_train, X_test, y_train, y_test = train_test_split(X, y, test_size=0.3, random_state=42)\n"
      ],
      "metadata": {
        "id": "U_WwG5a_3oK4"
      },
      "execution_count": 92,
      "outputs": []
    },
    {
      "cell_type": "code",
      "source": [
        "# Initialize Decision Tree classifier\n",
        "dt_classifier = DecisionTreeClassifier()\n",
        "\n",
        "# Train the Decision Tree classifier on the training data\n",
        "dt_classifier.fit(X_train, y_train)\n",
        "\n",
        "# Make predictions on the test data\n",
        "y_pred_dt = dt_classifier.predict(X_test)\n",
        "\n",
        "# Calculate accuracy for Decision Tree\n",
        "accuracy_dt = accuracy_score(y_test, y_pred_dt)\n",
        "\n",
        "print(\"Accuracy of Decision Tree:\", accuracy_dt)\n",
        "# Generate a classification report\n",
        "classification_rep = classification_report(y_test, y_pred)\n",
        "print(\"\\n Classification Report:\\n\", classification_rep)\n"
      ],
      "metadata": {
        "colab": {
          "base_uri": "https://localhost:8080/"
        },
        "id": "HoK6klQ13oE7",
        "outputId": "433fa96d-29d5-4a97-ac2c-a800117492f3"
      },
      "execution_count": 93,
      "outputs": [
        {
          "output_type": "stream",
          "name": "stdout",
          "text": [
            "Accuracy of Decision Tree: 0.924646265218822\n",
            "\n",
            " Classification Report:\n",
            "               precision    recall  f1-score   support\n",
            "\n",
            "           0       0.71      0.47      0.57       496\n",
            "           1       0.90      0.96      0.93      2543\n",
            "\n",
            "    accuracy                           0.88      3039\n",
            "   macro avg       0.81      0.72      0.75      3039\n",
            "weighted avg       0.87      0.88      0.87      3039\n",
            "\n"
          ]
        }
      ]
    },
    {
      "cell_type": "markdown",
      "source": [
        "# **10% Mean Method -**"
      ],
      "metadata": {
        "id": "lXKuZjFT2A0i"
      }
    },
    {
      "cell_type": "code",
      "source": [
        "data_10_mean = df.copy()\n",
        "\n",
        "# Removing 10% data from the 'Customer_Age' column\n",
        "data_percent_mean10 = data_10_mean['Customer_Age'].sample(frac=0.10)\n",
        "\n",
        "# Using the index of the sampled data to set them to NaN\n",
        "data_10_mean.loc[data_percent_mean10.index, 'Customer_Age'] = np.NaN"
      ],
      "metadata": {
        "id": "nhiJ-mUy0Emq"
      },
      "execution_count": 94,
      "outputs": []
    },
    {
      "cell_type": "code",
      "source": [
        "data_10_mean['Customer_Age'].isnull().sum()"
      ],
      "metadata": {
        "colab": {
          "base_uri": "https://localhost:8080/"
        },
        "id": "TFs8jHQ00Eo3",
        "outputId": "34a70c05-bd9f-4c94-e609-f102588842d8"
      },
      "execution_count": 95,
      "outputs": [
        {
          "output_type": "execute_result",
          "data": {
            "text/plain": [
              "1013"
            ]
          },
          "metadata": {},
          "execution_count": 95
        }
      ]
    },
    {
      "cell_type": "code",
      "source": [
        "data_10_mean['Customer_Age']=data_10_mean['Customer_Age'].fillna(data_10_mean['Customer_Age'].mean())"
      ],
      "metadata": {
        "id": "eDj96GdK1Oud"
      },
      "execution_count": 96,
      "outputs": []
    },
    {
      "cell_type": "code",
      "source": [
        "data_10_mean['Customer_Age'].isnull().sum()"
      ],
      "metadata": {
        "colab": {
          "base_uri": "https://localhost:8080/"
        },
        "id": "nTfMi8wl0Ere",
        "outputId": "f94802eb-602d-416b-e181-f206a575846e"
      },
      "execution_count": 97,
      "outputs": [
        {
          "output_type": "execute_result",
          "data": {
            "text/plain": [
              "0"
            ]
          },
          "metadata": {},
          "execution_count": 97
        }
      ]
    },
    {
      "cell_type": "code",
      "source": [
        "#Train & Test dataset split\n",
        "X = data_10_mean.drop(columns=['Attrition_Flag'])  # Features\n",
        "y = data_10_mean['Attrition_Flag']  # Target variable\n",
        "\n",
        "# Split the dataset into equal parts (70% train, 30% test)\n",
        "X_train, X_test, y_train, y_test = train_test_split(X, y, test_size=0.3, random_state=42)\n"
      ],
      "metadata": {
        "id": "eJ3f38KD0Et_"
      },
      "execution_count": 100,
      "outputs": []
    },
    {
      "cell_type": "code",
      "source": [
        "# Initialize Decision Tree classifier\n",
        "dt_classifier = DecisionTreeClassifier()\n",
        "\n",
        "# Train the Decision Tree classifier on the training data\n",
        "dt_classifier.fit(X_train, y_train)\n",
        "\n",
        "# Make predictions on the test data\n",
        "y_pred_dt = dt_classifier.predict(X_test)\n",
        "\n",
        "# Calculate accuracy for Decision Tree\n",
        "accuracy_dt = accuracy_score(y_test, y_pred_dt)\n",
        "\n",
        "print(\"Accuracy of Decision Tree:\", accuracy_dt)\n",
        "\n",
        "# Generate a classification report\n",
        "classification_rep = classification_report(y_test, y_pred)\n",
        "print(\"\\n Classification Report:\\n\", classification_rep)\n"
      ],
      "metadata": {
        "colab": {
          "base_uri": "https://localhost:8080/"
        },
        "id": "0zJOzmKr0ExN",
        "outputId": "f553a6c5-7669-4bc2-99f5-295499347a0a"
      },
      "execution_count": 101,
      "outputs": [
        {
          "output_type": "stream",
          "name": "stdout",
          "text": [
            "Accuracy of Decision Tree: 0.9285949325435998\n",
            "\n",
            " Classification Report:\n",
            "               precision    recall  f1-score   support\n",
            "\n",
            "           0       0.71      0.47      0.57       496\n",
            "           1       0.90      0.96      0.93      2543\n",
            "\n",
            "    accuracy                           0.88      3039\n",
            "   macro avg       0.81      0.72      0.75      3039\n",
            "weighted avg       0.87      0.88      0.87      3039\n",
            "\n"
          ]
        }
      ]
    },
    {
      "cell_type": "markdown",
      "source": [
        "# **1% Median Part -**"
      ],
      "metadata": {
        "id": "q5XEXhSC4ad9"
      }
    },
    {
      "cell_type": "code",
      "source": [
        "data_1_median = df.copy()\n",
        "\n",
        "# Removing 10% data from the 'Customer_Age' column\n",
        "data_percent_median1 = data_1_median['Customer_Age'].sample(frac=0.01)\n",
        "\n",
        "# Using the index of the sampled data to set them to NaN\n",
        "data_1_median.loc[data_percent_median1.index, 'Customer_Age'] = np.NaN"
      ],
      "metadata": {
        "id": "ugTtzJjYXPjn"
      },
      "execution_count": 102,
      "outputs": []
    },
    {
      "cell_type": "code",
      "source": [
        "data_1_median['Customer_Age'].isnull().sum()"
      ],
      "metadata": {
        "colab": {
          "base_uri": "https://localhost:8080/"
        },
        "id": "GpY1_tXC4u7-",
        "outputId": "cd20fce0-1cd4-49ee-a288-e54f64e43253"
      },
      "execution_count": 103,
      "outputs": [
        {
          "output_type": "execute_result",
          "data": {
            "text/plain": [
              "101"
            ]
          },
          "metadata": {},
          "execution_count": 103
        }
      ]
    },
    {
      "cell_type": "code",
      "source": [
        "data_1_median['Customer_Age']=data_1_median['Customer_Age'].fillna(data_1_median['Customer_Age'].median())"
      ],
      "metadata": {
        "id": "M78egrQL4ur9"
      },
      "execution_count": 104,
      "outputs": []
    },
    {
      "cell_type": "code",
      "source": [
        "data_1_median['Customer_Age'].isnull().sum()"
      ],
      "metadata": {
        "colab": {
          "base_uri": "https://localhost:8080/"
        },
        "id": "1PpGtRro4ukW",
        "outputId": "ff1d8764-6fcb-4205-fa41-78ce45f6f9b0"
      },
      "execution_count": 105,
      "outputs": [
        {
          "output_type": "execute_result",
          "data": {
            "text/plain": [
              "0"
            ]
          },
          "metadata": {},
          "execution_count": 105
        }
      ]
    },
    {
      "cell_type": "code",
      "source": [
        "#Train & Test dataset split\n",
        "X = data_1_median.drop(columns=['Attrition_Flag'])  # Features\n",
        "y = data_1_median['Attrition_Flag']  # Target variable\n",
        "\n",
        "# Split the dataset into equal parts (70% train, 30% test)\n",
        "X_train, X_test, y_train, y_test = train_test_split(X, y, test_size=0.3, random_state=42)"
      ],
      "metadata": {
        "id": "URIXMlXY4uVx"
      },
      "execution_count": 106,
      "outputs": []
    },
    {
      "cell_type": "code",
      "source": [
        "# Initialize Decision Tree classifier\n",
        "dt_classifier = DecisionTreeClassifier()\n",
        "\n",
        "# Train the Decision Tree classifier on the training data\n",
        "dt_classifier.fit(X_train, y_train)\n",
        "\n",
        "# Make predictions on the test data\n",
        "y_pred_dt = dt_classifier.predict(X_test)\n",
        "\n",
        "# Calculate accuracy for Decision Tree\n",
        "accuracy_dt = accuracy_score(y_test, y_pred_dt)\n",
        "print(\"Accuracy of Decision Tree:\", accuracy_dt)\n",
        "\n",
        "# Generate a classification report\n",
        "classification_rep = classification_report(y_test, y_pred)\n",
        "print(\"\\n Classification Report:\\n\", classification_rep)\n"
      ],
      "metadata": {
        "colab": {
          "base_uri": "https://localhost:8080/"
        },
        "id": "uS3ejOhn6nns",
        "outputId": "2548e9ae-acdb-437e-e308-65687a9f864a"
      },
      "execution_count": 108,
      "outputs": [
        {
          "output_type": "stream",
          "name": "stdout",
          "text": [
            "Accuracy of Decision Tree: 0.9305692662059888\n",
            "\n",
            " Classification Report:\n",
            "               precision    recall  f1-score   support\n",
            "\n",
            "           0       0.71      0.47      0.57       496\n",
            "           1       0.90      0.96      0.93      2543\n",
            "\n",
            "    accuracy                           0.88      3039\n",
            "   macro avg       0.81      0.72      0.75      3039\n",
            "weighted avg       0.87      0.88      0.87      3039\n",
            "\n"
          ]
        }
      ]
    },
    {
      "cell_type": "markdown",
      "source": [
        "# **5% Median Part -**"
      ],
      "metadata": {
        "id": "o5TSY7Kl4bcx"
      }
    },
    {
      "cell_type": "code",
      "source": [
        "data_5_median = df.copy()\n",
        "\n",
        "# Removing 10% data from the 'Customer_Age' column\n",
        "data_percent_median5 = data_5_median['Customer_Age'].sample(frac=0.05)\n",
        "\n",
        "# Using the index of the sampled data to set them to NaN\n",
        "data_5_median.loc[data_percent_median5.index, 'Customer_Age'] = np.NaN"
      ],
      "metadata": {
        "id": "xkEZ6ovIXPl0"
      },
      "execution_count": 109,
      "outputs": []
    },
    {
      "cell_type": "code",
      "source": [
        "data_5_median['Customer_Age'].isnull().sum()"
      ],
      "metadata": {
        "colab": {
          "base_uri": "https://localhost:8080/"
        },
        "id": "s2IQfBhi5PHE",
        "outputId": "b8188c11-f37c-4a07-fd17-16d3b4d5a321"
      },
      "execution_count": 110,
      "outputs": [
        {
          "output_type": "execute_result",
          "data": {
            "text/plain": [
              "506"
            ]
          },
          "metadata": {},
          "execution_count": 110
        }
      ]
    },
    {
      "cell_type": "code",
      "source": [
        "data_5_median['Customer_Age']=data_5_median['Customer_Age'].fillna(data_5_median['Customer_Age'].median())"
      ],
      "metadata": {
        "id": "z5QPnOa65PDQ"
      },
      "execution_count": 111,
      "outputs": []
    },
    {
      "cell_type": "code",
      "source": [
        "data_5_median['Customer_Age'].isnull().sum()"
      ],
      "metadata": {
        "colab": {
          "base_uri": "https://localhost:8080/"
        },
        "id": "AZylnvEq5PA_",
        "outputId": "9ec18660-d90c-4b68-ee20-7028b0a8196d"
      },
      "execution_count": 112,
      "outputs": [
        {
          "output_type": "execute_result",
          "data": {
            "text/plain": [
              "0"
            ]
          },
          "metadata": {},
          "execution_count": 112
        }
      ]
    },
    {
      "cell_type": "code",
      "source": [
        "#Train & Test dataset split\n",
        "X = data_5_median.drop(columns=['Attrition_Flag'])  # Features\n",
        "y = data_5_median['Attrition_Flag']  # Target variable\n",
        "\n",
        "# Split the dataset into equal parts (70% train, 30% test)\n",
        "X_train, X_test, y_train, y_test = train_test_split(X, y, test_size=0.3, random_state=42)\n"
      ],
      "metadata": {
        "id": "xzDTDU_55O-4"
      },
      "execution_count": 113,
      "outputs": []
    },
    {
      "cell_type": "code",
      "source": [
        "# Initialize Decision Tree classifier\n",
        "dt_classifier = DecisionTreeClassifier()\n",
        "\n",
        "# Train the Decision Tree classifier on the training data\n",
        "dt_classifier.fit(X_train, y_train)\n",
        "\n",
        "# Make predictions on the test data\n",
        "y_pred_dt = dt_classifier.predict(X_test)\n",
        "\n",
        "# Calculate accuracy for Decision Tree\n",
        "accuracy_dt = accuracy_score(y_test, y_pred_dt)\n",
        "\n",
        "print(\"Accuracy of Decision Tree:\", accuracy_dt)\n",
        "\n",
        "# Generate a classification report\n",
        "classification_rep = classification_report(y_test, y_pred)\n",
        "print(\"\\n Classification Report:\\n\", classification_rep)\n"
      ],
      "metadata": {
        "colab": {
          "base_uri": "https://localhost:8080/"
        },
        "id": "tFif70kV64wV",
        "outputId": "7d9eaddf-50d2-4bb6-ec55-bdec23ea1e04"
      },
      "execution_count": 114,
      "outputs": [
        {
          "output_type": "stream",
          "name": "stdout",
          "text": [
            "Accuracy of Decision Tree: 0.9315564330371833\n",
            "\n",
            " Classification Report:\n",
            "               precision    recall  f1-score   support\n",
            "\n",
            "           0       0.71      0.47      0.57       496\n",
            "           1       0.90      0.96      0.93      2543\n",
            "\n",
            "    accuracy                           0.88      3039\n",
            "   macro avg       0.81      0.72      0.75      3039\n",
            "weighted avg       0.87      0.88      0.87      3039\n",
            "\n"
          ]
        }
      ]
    },
    {
      "cell_type": "markdown",
      "source": [
        "# **10% Median Part -**"
      ],
      "metadata": {
        "id": "oxQ3_GzP4cPX"
      }
    },
    {
      "cell_type": "code",
      "source": [
        "data_10_median = df.copy()\n",
        "\n",
        "# Removing 10% data from the 'Customer_Age' column\n",
        "data_percent_median10 = data_10_median['Customer_Age'].sample(frac=0.10)\n",
        "\n",
        "# Using the index of the sampled data to set them to NaN\n",
        "data_10_median.loc[data_percent_median10.index, 'Customer_Age'] = np.NaN"
      ],
      "metadata": {
        "id": "-5f_ijKZXPoJ"
      },
      "execution_count": 115,
      "outputs": []
    },
    {
      "cell_type": "code",
      "source": [
        "data_10_median['Customer_Age'].isnull().sum()"
      ],
      "metadata": {
        "colab": {
          "base_uri": "https://localhost:8080/"
        },
        "id": "RZyoK2BW5S1I",
        "outputId": "1ac69f39-2e9b-4e2a-dc20-160655384221"
      },
      "execution_count": 116,
      "outputs": [
        {
          "output_type": "execute_result",
          "data": {
            "text/plain": [
              "1013"
            ]
          },
          "metadata": {},
          "execution_count": 116
        }
      ]
    },
    {
      "cell_type": "code",
      "source": [
        "data_10_median['Customer_Age']=data_10_median['Customer_Age'].fillna(data_10_median['Customer_Age'].median())"
      ],
      "metadata": {
        "id": "HGjUKTxo5Sny"
      },
      "execution_count": 117,
      "outputs": []
    },
    {
      "cell_type": "code",
      "source": [
        "data_10_median['Customer_Age'].isnull().sum()"
      ],
      "metadata": {
        "colab": {
          "base_uri": "https://localhost:8080/"
        },
        "id": "JnYoxMOvXPrM",
        "outputId": "eb7c5daa-1424-4173-c83d-8716dd1e3ead"
      },
      "execution_count": 118,
      "outputs": [
        {
          "output_type": "execute_result",
          "data": {
            "text/plain": [
              "0"
            ]
          },
          "metadata": {},
          "execution_count": 118
        }
      ]
    },
    {
      "cell_type": "code",
      "source": [
        "#Train & Test dataset split\n",
        "X = data_10_median.drop(columns=['Attrition_Flag'])  # Features\n",
        "y = data_10_median['Attrition_Flag']  # Target variable\n",
        "\n",
        "# Split the dataset into equal parts (70% train, 30% test)\n",
        "X_train, X_test, y_train, y_test = train_test_split(X, y, test_size=0.3, random_state=42)\n"
      ],
      "metadata": {
        "id": "9ZM5T7DF6vnP"
      },
      "execution_count": 119,
      "outputs": []
    },
    {
      "cell_type": "code",
      "source": [
        "# Initialize Decision Tree classifier\n",
        "dt_classifier = DecisionTreeClassifier()\n",
        "\n",
        "# Train the Decision Tree classifier on the training data\n",
        "dt_classifier.fit(X_train, y_train)\n",
        "\n",
        "# Make predictions on the test data\n",
        "y_pred_dt = dt_classifier.predict(X_test)\n",
        "\n",
        "# Calculate accuracy for Decision Tree\n",
        "accuracy_dt = accuracy_score(y_test, y_pred_dt)\n",
        "\n",
        "print(\"Accuracy of Decision Tree:\", accuracy_dt)\n",
        "\n",
        "# Generate a classification report\n",
        "classification_rep = classification_report(y_test, y_pred)\n",
        "print(\"\\n Classification Report:\\n\", classification_rep)\n"
      ],
      "metadata": {
        "colab": {
          "base_uri": "https://localhost:8080/"
        },
        "id": "ssASqIMK6vtK",
        "outputId": "1eba7e9f-d930-4bfe-f036-f006a966a038"
      },
      "execution_count": 120,
      "outputs": [
        {
          "output_type": "stream",
          "name": "stdout",
          "text": [
            "Accuracy of Decision Tree: 0.9282658769332017\n",
            "\n",
            " Classification Report:\n",
            "               precision    recall  f1-score   support\n",
            "\n",
            "           0       0.71      0.47      0.57       496\n",
            "           1       0.90      0.96      0.93      2543\n",
            "\n",
            "    accuracy                           0.88      3039\n",
            "   macro avg       0.81      0.72      0.75      3039\n",
            "weighted avg       0.87      0.88      0.87      3039\n",
            "\n"
          ]
        }
      ]
    },
    {
      "cell_type": "markdown",
      "source": [
        "# **1% Mode Part -**"
      ],
      "metadata": {
        "id": "ag03KQo576zt"
      }
    },
    {
      "cell_type": "code",
      "source": [
        "data_1_mode = df.copy()\n",
        "\n",
        "# Removing 10% data from the 'Customer_Age' column\n",
        "data_percent_mode1 = data_1_mode['Customer_Age'].sample(frac=0.01)\n",
        "\n",
        "# Using the index of the sampled data to set them to NaN\n",
        "data_1_mode.loc[data_percent_mode1.index, 'Customer_Age'] = np.NaN"
      ],
      "metadata": {
        "id": "-HI3EHtZ75K_"
      },
      "execution_count": 121,
      "outputs": []
    },
    {
      "cell_type": "code",
      "source": [
        "data_1_mode['Customer_Age'].isnull().sum()"
      ],
      "metadata": {
        "colab": {
          "base_uri": "https://localhost:8080/"
        },
        "id": "pifBu2O68aTE",
        "outputId": "5f1417a7-9bcc-46cb-9150-39f0fd55a048"
      },
      "execution_count": 122,
      "outputs": [
        {
          "output_type": "execute_result",
          "data": {
            "text/plain": [
              "101"
            ]
          },
          "metadata": {},
          "execution_count": 122
        }
      ]
    },
    {
      "cell_type": "code",
      "source": [
        "data_1_mode['Customer_Age'] = data_1_mode['Customer_Age'].fillna(data_1_mode['Customer_Age'].mode()[0])"
      ],
      "metadata": {
        "id": "AEKJ_FeF8aPu"
      },
      "execution_count": 123,
      "outputs": []
    },
    {
      "cell_type": "code",
      "source": [
        "data_1_mode['Customer_Age'].isnull().sum()"
      ],
      "metadata": {
        "colab": {
          "base_uri": "https://localhost:8080/"
        },
        "id": "GURiEoKF8aNU",
        "outputId": "d0d0fdcf-f911-4ca9-b48b-38e1cc7343b9"
      },
      "execution_count": 124,
      "outputs": [
        {
          "output_type": "execute_result",
          "data": {
            "text/plain": [
              "0"
            ]
          },
          "metadata": {},
          "execution_count": 124
        }
      ]
    },
    {
      "cell_type": "code",
      "source": [
        "#Train & Test dataset split\n",
        "X = data_1_mode.drop(columns=['Attrition_Flag'])  # Features\n",
        "y = data_1_mode['Attrition_Flag']  # Target variable\n",
        "\n",
        "# Split the dataset into equal parts (70% train, 30% test)\n",
        "X_train, X_test, y_train, y_test = train_test_split(X, y, test_size=0.3, random_state=42)\n"
      ],
      "metadata": {
        "id": "k7BEYg5b8aLH"
      },
      "execution_count": 125,
      "outputs": []
    },
    {
      "cell_type": "code",
      "source": [
        "# Initialize Decision Tree classifier\n",
        "dt_classifier = DecisionTreeClassifier()\n",
        "\n",
        "# Train the Decision Tree classifier on the training data\n",
        "dt_classifier.fit(X_train, y_train)\n",
        "\n",
        "# Make predictions on the test data\n",
        "y_pred_dt = dt_classifier.predict(X_test)\n",
        "\n",
        "# Calculate accuracy for Decision Tree\n",
        "accuracy_dt = accuracy_score(y_test, y_pred_dt)\n",
        "\n",
        "print(\"Accuracy of Decision Tree:\", accuracy_dt)\n",
        "\n",
        "# Generate a classification report\n",
        "classification_rep = classification_report(y_test, y_pred)\n",
        "print(\"\\n Classification Report:\\n\", classification_rep)\n"
      ],
      "metadata": {
        "colab": {
          "base_uri": "https://localhost:8080/"
        },
        "id": "PW0eZtmj8aIW",
        "outputId": "66e43137-b836-4ddc-976d-a8730fa3d776"
      },
      "execution_count": 126,
      "outputs": [
        {
          "output_type": "stream",
          "name": "stdout",
          "text": [
            "Accuracy of Decision Tree: 0.9302402105955907\n",
            "\n",
            " Classification Report:\n",
            "               precision    recall  f1-score   support\n",
            "\n",
            "           0       0.71      0.47      0.57       496\n",
            "           1       0.90      0.96      0.93      2543\n",
            "\n",
            "    accuracy                           0.88      3039\n",
            "   macro avg       0.81      0.72      0.75      3039\n",
            "weighted avg       0.87      0.88      0.87      3039\n",
            "\n"
          ]
        }
      ]
    },
    {
      "cell_type": "markdown",
      "source": [
        "# **5% Mode Part -**"
      ],
      "metadata": {
        "id": "8xKxcrbw8OUb"
      }
    },
    {
      "cell_type": "code",
      "source": [
        "data_5_mode = df.copy()\n",
        "\n",
        "# Removing 10% data from the 'Customer_Age' column\n",
        "data_percent_mode5 = data_5_mode['Customer_Age'].sample(frac=0.05)\n",
        "\n",
        "# Using the index of the sampled data to set them to NaN\n",
        "data_5_mode.loc[data_percent_mode5.index, 'Customer_Age'] = np.NaN"
      ],
      "metadata": {
        "id": "brb2k6BS8bTe"
      },
      "execution_count": 127,
      "outputs": []
    },
    {
      "cell_type": "code",
      "source": [
        "data_5_mode['Customer_Age'].isnull().sum()"
      ],
      "metadata": {
        "colab": {
          "base_uri": "https://localhost:8080/"
        },
        "id": "p2Jw7dI48bQI",
        "outputId": "22686622-c598-482e-fa4e-8e275b710442"
      },
      "execution_count": 128,
      "outputs": [
        {
          "output_type": "execute_result",
          "data": {
            "text/plain": [
              "506"
            ]
          },
          "metadata": {},
          "execution_count": 128
        }
      ]
    },
    {
      "cell_type": "code",
      "source": [
        "data_5_mode['Customer_Age'] = data_5_mode['Customer_Age'].fillna(data_5_mode['Customer_Age'].mode()[0])"
      ],
      "metadata": {
        "id": "wWeG1q6y8bNd"
      },
      "execution_count": 129,
      "outputs": []
    },
    {
      "cell_type": "code",
      "source": [
        "data_5_mode['Customer_Age'].isnull().sum()"
      ],
      "metadata": {
        "colab": {
          "base_uri": "https://localhost:8080/"
        },
        "id": "9ZUVHWJx8bLF",
        "outputId": "5ba85f1a-426e-403c-e3eb-d7bb6f8194f5"
      },
      "execution_count": 130,
      "outputs": [
        {
          "output_type": "execute_result",
          "data": {
            "text/plain": [
              "0"
            ]
          },
          "metadata": {},
          "execution_count": 130
        }
      ]
    },
    {
      "cell_type": "code",
      "source": [
        "#Train & Test dataset split\n",
        "X = data_5_mode.drop(columns=['Attrition_Flag'])  # Features\n",
        "y = data_5_mode['Attrition_Flag']  # Target variable\n",
        "\n",
        "# Split the dataset into equal parts (70% train, 30% test)\n",
        "X_train, X_test, y_train, y_test = train_test_split(X, y, test_size=0.3, random_state=42)\n"
      ],
      "metadata": {
        "id": "-1WyiKuI8bIm"
      },
      "execution_count": 131,
      "outputs": []
    },
    {
      "cell_type": "code",
      "source": [
        "# Initialize Decision Tree classifier\n",
        "dt_classifier = DecisionTreeClassifier()\n",
        "\n",
        "# Train the Decision Tree classifier on the training data\n",
        "dt_classifier.fit(X_train, y_train)\n",
        "\n",
        "# Make predictions on the test data\n",
        "y_pred_dt = dt_classifier.predict(X_test)\n",
        "\n",
        "# Calculate accuracy for Decision Tree\n",
        "accuracy_dt = accuracy_score(y_test, y_pred_dt)\n",
        "\n",
        "print(\"Accuracy of Decision Tree:\", accuracy_dt)\n",
        "\n",
        "# Generate a classification report\n",
        "classification_rep = classification_report(y_test, y_pred)\n",
        "print(\"\\n Classification Report:\\n\", classification_rep)\n"
      ],
      "metadata": {
        "colab": {
          "base_uri": "https://localhost:8080/"
        },
        "id": "8BTCVJi58bGB",
        "outputId": "be0ac5bf-c326-4243-a013-0939a19bee8c"
      },
      "execution_count": 132,
      "outputs": [
        {
          "output_type": "stream",
          "name": "stdout",
          "text": [
            "Accuracy of Decision Tree: 0.926949654491609\n",
            "\n",
            " Classification Report:\n",
            "               precision    recall  f1-score   support\n",
            "\n",
            "           0       0.71      0.47      0.57       496\n",
            "           1       0.90      0.96      0.93      2543\n",
            "\n",
            "    accuracy                           0.88      3039\n",
            "   macro avg       0.81      0.72      0.75      3039\n",
            "weighted avg       0.87      0.88      0.87      3039\n",
            "\n"
          ]
        }
      ]
    },
    {
      "cell_type": "markdown",
      "source": [
        "# **10% Mode Part -**"
      ],
      "metadata": {
        "id": "oFa8tHfv8QYq"
      }
    },
    {
      "cell_type": "code",
      "source": [
        "data_10_mode = df.copy()\n",
        "\n",
        "# Removing 10% data from the 'Customer_Age' column\n",
        "data_percent_mode10 = data_10_mode['Customer_Age'].sample(frac=0.10)\n",
        "\n",
        "# Using the index of the sampled data to set them to NaN\n",
        "data_10_mode.loc[data_percent_mode10.index, 'Customer_Age'] = np.NaN"
      ],
      "metadata": {
        "id": "T-L1KyPw8b78"
      },
      "execution_count": 133,
      "outputs": []
    },
    {
      "cell_type": "code",
      "source": [
        "data_10_mode['Customer_Age'].isnull().sum()"
      ],
      "metadata": {
        "colab": {
          "base_uri": "https://localhost:8080/"
        },
        "id": "buq0rO3Y8b5h",
        "outputId": "e083ba1f-e3df-46e3-c419-d9596fecffb4"
      },
      "execution_count": 134,
      "outputs": [
        {
          "output_type": "execute_result",
          "data": {
            "text/plain": [
              "1013"
            ]
          },
          "metadata": {},
          "execution_count": 134
        }
      ]
    },
    {
      "cell_type": "code",
      "source": [
        "data_10_mode['Customer_Age'] = data_10_mode['Customer_Age'].fillna(data_10_mode['Customer_Age'].mode()[0])"
      ],
      "metadata": {
        "id": "f0L-DjId8b3D"
      },
      "execution_count": 135,
      "outputs": []
    },
    {
      "cell_type": "code",
      "source": [
        "data_10_mode['Customer_Age'].isnull().sum()"
      ],
      "metadata": {
        "colab": {
          "base_uri": "https://localhost:8080/"
        },
        "id": "O9eBFgKc8b0Z",
        "outputId": "d955cb0d-e3b0-470a-b247-32ff809a50b5"
      },
      "execution_count": 136,
      "outputs": [
        {
          "output_type": "execute_result",
          "data": {
            "text/plain": [
              "0"
            ]
          },
          "metadata": {},
          "execution_count": 136
        }
      ]
    },
    {
      "cell_type": "code",
      "source": [
        "#Train & Test dataset split\n",
        "X = data_10_mode.drop(columns=['Attrition_Flag'])  # Features\n",
        "y = data_10_mode['Attrition_Flag']  # Target variable\n",
        "\n",
        "# Split the dataset into equal parts (70% train, 30% test)\n",
        "X_train, X_test, y_train, y_test = train_test_split(X, y, test_size=0.3, random_state=42)\n"
      ],
      "metadata": {
        "id": "CMc8cvKq8byE"
      },
      "execution_count": 137,
      "outputs": []
    },
    {
      "cell_type": "code",
      "source": [
        "# Initialize Decision Tree classifier\n",
        "dt_classifier = DecisionTreeClassifier()\n",
        "\n",
        "# Train the Decision Tree classifier on the training data\n",
        "dt_classifier.fit(X_train, y_train)\n",
        "\n",
        "# Make predictions on the test data\n",
        "y_pred_dt = dt_classifier.predict(X_test)\n",
        "\n",
        "# Calculate accuracy for Decision Tree\n",
        "accuracy_dt = accuracy_score(y_test, y_pred_dt)\n",
        "\n",
        "print(\"Accuracy of Decision Tree:\", accuracy_dt)\n",
        "\n",
        "# Generate a classification report\n",
        "classification_rep = classification_report(y_test, y_pred)\n",
        "print(\"\\n Classification Report:\\n\", classification_rep)\n"
      ],
      "metadata": {
        "colab": {
          "base_uri": "https://localhost:8080/"
        },
        "id": "QAWGsaXL8bvE",
        "outputId": "4f6ab85a-b7f6-4498-c812-f0e3c4deb262"
      },
      "execution_count": 138,
      "outputs": [
        {
          "output_type": "stream",
          "name": "stdout",
          "text": [
            "Accuracy of Decision Tree: 0.9302402105955907\n",
            "\n",
            " Classification Report:\n",
            "               precision    recall  f1-score   support\n",
            "\n",
            "           0       0.71      0.47      0.57       496\n",
            "           1       0.90      0.96      0.93      2543\n",
            "\n",
            "    accuracy                           0.88      3039\n",
            "   macro avg       0.81      0.72      0.75      3039\n",
            "weighted avg       0.87      0.88      0.87      3039\n",
            "\n"
          ]
        }
      ]
    },
    {
      "cell_type": "code",
      "source": [
        "mean_original = y_test.mean()\n",
        "mean_predicted_original = y_pred_dt.mean()\n",
        "bias_original = abs(mean_original - mean_predicted_original)\n",
        "\n",
        "mean_imputed = y_test.mean()\n",
        "mean_predicted_imputed = y_pred_dt.mean()\n",
        "bias_imputed = abs(mean_imputed - mean_predicted_imputed)\n",
        "print('Bias imputed:',bias_imputed)\n"
      ],
      "metadata": {
        "colab": {
          "base_uri": "https://localhost:8080/"
        },
        "id": "MddWwQmSjNcS",
        "outputId": "c8f0b67b-0dca-41d8-e147-28a5a1e8b135"
      },
      "execution_count": 151,
      "outputs": [
        {
          "output_type": "stream",
          "name": "stdout",
          "text": [
            "Bias imputed: 0.003948667324777944\n"
          ]
        }
      ]
    },
    {
      "cell_type": "code",
      "source": [
        "variance_original = ((y_pred_dt - mean_predicted_original) ** 2).mean()\n",
        "variance_imputed = ((y_pred_dt - mean_predicted_imputed) ** 2).mean()\n",
        "\n",
        "print('Variance Imputed:', variance_imputed)"
      ],
      "metadata": {
        "colab": {
          "base_uri": "https://localhost:8080/"
        },
        "id": "t_31nuiGpLz1",
        "outputId": "bf5d3714-bf17-4cc5-b39f-02058f9f5701"
      },
      "execution_count": 152,
      "outputs": [
        {
          "output_type": "stream",
          "name": "stdout",
          "text": [
            "Variance Imputed: 0.1338982392005822\n"
          ]
        }
      ]
    },
    {
      "cell_type": "markdown",
      "source": [
        "## **REFERENCES**\n",
        "\n",
        "\n",
        "\n",
        "1.   Sckit learn offcial documentation\n",
        "2.   Refered Towards Data Science\n",
        "3.   Correlation Matrix and Heatmap\n",
        "4.   Random forest regression\n",
        "\n",
        "- **Correlation Matrix and Heatmap:**\n",
        "The correlation matrix and heatmap were created using the Seaborn library in Python, as outlined in the Seaborn documentation: https://seaborn.pydata.org/\n",
        "Interpretation of the correlation matrices and heatmap followed the guidance from relevant tutorials and guides used in this analysis.\n",
        "\n",
        "- **Random Forest Regression:**\n",
        "Random forest regression was implemented in this analysis using Scikit-Learn in Python, and reference was made to the Scikit-Learn documentation: https://scikit-learn.org/stable/documentation.html\n",
        "The analysis benefited from academic sources such as \"Breiman, L. (2001). Random forests. Machine learning, 45(1), 5-32,\" which provided insights into the random forest algorithm."
      ],
      "metadata": {
        "id": "-9oTJxJBqEB-"
      }
    },
    {
      "cell_type": "markdown",
      "source": [
        "# **LICENSE**"
      ],
      "metadata": {
        "id": "bfMV6W6WnTcK"
      }
    },
    {
      "cell_type": "markdown",
      "source": [
        "MIT License\n",
        "\n",
        "Copyright (c) 2024 ckulkarni13\n",
        "\n",
        "Permission is hereby granted, free of charge, to any person obtaining a copy\n",
        "of this software and associated documentation files (the \"Software\"), to deal\n",
        "in the Software without restriction, including without limitation the rights\n",
        "to use, copy, modify, merge, publish, distribute, sublicense, and/or sell\n",
        "copies of the Software, and to permit persons to whom the Software is\n",
        "furnished to do so, subject to the following conditions:\n",
        "\n",
        "The above copyright notice and this permission notice shall be included in all\n",
        "copies or substantial portions of the Software.\n",
        "\n",
        "THE SOFTWARE IS PROVIDED \"AS IS\", WITHOUT WARRANTY OF ANY KIND, EXPRESS OR\n",
        "IMPLIED, INCLUDING BUT NOT LIMITED TO THE WARRANTIES OF MERCHANTABILITY,\n",
        "FITNESS FOR A PARTICULAR PURPOSE AND NONINFRINGEMENT. IN NO EVENT SHALL THE\n",
        "AUTHORS OR COPYRIGHT HOLDERS BE LIABLE FOR ANY CLAIM, DAMAGES OR OTHER\n",
        "LIABILITY, WHETHER IN AN ACTION OF CONTRACT, TORT OR OTHERWISE, ARISING FROM,\n",
        "OUT OF OR IN CONNECTION WITH THE SOFTWARE OR THE USE OR OTHER DEALINGS IN THE\n",
        "SOFTWARE."
      ],
      "metadata": {
        "id": "QcMB_-vcm95a"
      }
    }
  ]
}